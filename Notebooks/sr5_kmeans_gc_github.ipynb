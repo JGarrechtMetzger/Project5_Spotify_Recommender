{
 "cells": [
  {
   "cell_type": "code",
   "execution_count": 1,
   "metadata": {
    "execution": {
     "iopub.execute_input": "2021-03-25T03:52:25.344782Z",
     "iopub.status.busy": "2021-03-25T03:52:25.344121Z",
     "iopub.status.idle": "2021-03-25T03:52:32.201414Z",
     "shell.execute_reply": "2021-03-25T03:52:32.199352Z",
     "shell.execute_reply.started": "2021-03-25T03:52:25.344593Z"
    },
    "id": "bW_OvgwTlQR5"
   },
   "outputs": [],
   "source": [
    "import pandas as pd\n",
    "import numpy as np\n",
    "from datetime import datetime\n",
    "from time import strftime,localtime\n",
    "from sklearn.preprocessing import StandardScaler\n",
    "from sklearn.metrics import pairwise_distances\n",
    "from sklearn.metrics.pairwise import cosine_distances\n",
    "\n",
    "#Adding this to imports because I kept skipping the cell\n",
    "scaler = StandardScaler()"
   ]
  },
  {
   "cell_type": "code",
   "execution_count": 2,
   "metadata": {
    "execution": {
     "iopub.execute_input": "2021-03-25T03:52:33.185241Z",
     "iopub.status.busy": "2021-03-25T03:52:33.184294Z",
     "iopub.status.idle": "2021-03-25T03:52:41.176558Z",
     "shell.execute_reply": "2021-03-25T03:52:41.174834Z",
     "shell.execute_reply.started": "2021-03-25T03:52:33.185186Z"
    },
    "id": "j0fBSzn_lZhd"
   },
   "outputs": [
    {
     "name": "stdout",
     "output_type": "stream",
     "text": [
      "Collecting ipython-autotime\n",
      "  Downloading ipython_autotime-0.3.1-py2.py3-none-any.whl (6.8 kB)\n",
      "Requirement already satisfied: ipython in /Users/johnmetzger/opt/anaconda3/lib/python3.8/site-packages (from ipython-autotime) (7.19.0)\n",
      "Requirement already satisfied: setuptools>=18.5 in /Users/johnmetzger/opt/anaconda3/lib/python3.8/site-packages (from ipython->ipython-autotime) (52.0.0.post20210125)\n",
      "Requirement already satisfied: backcall in /Users/johnmetzger/opt/anaconda3/lib/python3.8/site-packages (from ipython->ipython-autotime) (0.2.0)\n",
      "Requirement already satisfied: prompt-toolkit!=3.0.0,!=3.0.1,<3.1.0,>=2.0.0 in /Users/johnmetzger/opt/anaconda3/lib/python3.8/site-packages (from ipython->ipython-autotime) (3.0.8)\n",
      "Requirement already satisfied: decorator in /Users/johnmetzger/opt/anaconda3/lib/python3.8/site-packages (from ipython->ipython-autotime) (4.4.2)\n",
      "Requirement already satisfied: pexpect>4.3 in /Users/johnmetzger/opt/anaconda3/lib/python3.8/site-packages (from ipython->ipython-autotime) (4.8.0)\n",
      "Requirement already satisfied: pygments in /Users/johnmetzger/opt/anaconda3/lib/python3.8/site-packages (from ipython->ipython-autotime) (2.7.4)\n",
      "Requirement already satisfied: appnope in /Users/johnmetzger/opt/anaconda3/lib/python3.8/site-packages (from ipython->ipython-autotime) (0.1.2)\n",
      "Requirement already satisfied: pickleshare in /Users/johnmetzger/opt/anaconda3/lib/python3.8/site-packages (from ipython->ipython-autotime) (0.7.5)\n",
      "Requirement already satisfied: traitlets>=4.2 in /Users/johnmetzger/opt/anaconda3/lib/python3.8/site-packages (from ipython->ipython-autotime) (5.0.5)\n",
      "Requirement already satisfied: jedi>=0.10 in /Users/johnmetzger/opt/anaconda3/lib/python3.8/site-packages (from ipython->ipython-autotime) (0.17.2)\n",
      "Requirement already satisfied: parso<0.8.0,>=0.7.0 in /Users/johnmetzger/opt/anaconda3/lib/python3.8/site-packages (from jedi>=0.10->ipython->ipython-autotime) (0.7.0)\n",
      "Requirement already satisfied: ptyprocess>=0.5 in /Users/johnmetzger/opt/anaconda3/lib/python3.8/site-packages (from pexpect>4.3->ipython->ipython-autotime) (0.7.0)\n",
      "Requirement already satisfied: wcwidth in /Users/johnmetzger/opt/anaconda3/lib/python3.8/site-packages (from prompt-toolkit!=3.0.0,!=3.0.1,<3.1.0,>=2.0.0->ipython->ipython-autotime) (0.2.5)\n",
      "Requirement already satisfied: ipython-genutils in /Users/johnmetzger/opt/anaconda3/lib/python3.8/site-packages (from traitlets>=4.2->ipython->ipython-autotime) (0.2.0)\n",
      "Installing collected packages: ipython-autotime\n",
      "Successfully installed ipython-autotime-0.3.1\n"
     ]
    }
   ],
   "source": [
    "!pip install ipython-autotime"
   ]
  },
  {
   "cell_type": "code",
   "execution_count": 3,
   "metadata": {
    "colab": {
     "base_uri": "https://localhost:8080/"
    },
    "execution": {
     "iopub.execute_input": "2021-03-25T03:52:41.181556Z",
     "iopub.status.busy": "2021-03-25T03:52:41.181080Z",
     "iopub.status.idle": "2021-03-25T03:52:41.211992Z",
     "shell.execute_reply": "2021-03-25T03:52:41.207866Z",
     "shell.execute_reply.started": "2021-03-25T03:52:41.181489Z"
    },
    "id": "Z0y0sRNglZuP",
    "outputId": "3a7212bb-1895-480b-c1d2-344557268312"
   },
   "outputs": [
    {
     "name": "stdout",
     "output_type": "stream",
     "text": [
      "time: 511 µs (started: 2021-03-24 20:52:41 -07:00)\n"
     ]
    }
   ],
   "source": [
    "%load_ext autotime"
   ]
  },
  {
   "cell_type": "code",
   "execution_count": 4,
   "metadata": {
    "colab": {
     "base_uri": "https://localhost:8080/"
    },
    "execution": {
     "iopub.execute_input": "2021-03-25T03:52:42.914634Z",
     "iopub.status.busy": "2021-03-25T03:52:42.914397Z",
     "iopub.status.idle": "2021-03-25T03:52:42.920066Z",
     "shell.execute_reply": "2021-03-25T03:52:42.919232Z",
     "shell.execute_reply.started": "2021-03-25T03:52:42.914609Z"
    },
    "id": "L-9eOjVllbAX",
    "outputId": "feb947f9-09c4-4bfd-822e-8e67c37752e7"
   },
   "outputs": [
    {
     "name": "stdout",
     "output_type": "stream",
     "text": [
      "time: 1.13 ms (started: 2021-03-24 20:52:42 -07:00)\n"
     ]
    }
   ],
   "source": [
    "#Put this function in front of the 'chunk' cells later (or any cells you\n",
    "# want to time while they are running).  You don't need to pass anything\n",
    "# into it.\n",
    "\n",
    "def st_time():\n",
    "  now=datetime.now()\n",
    "  st_time=now.strftime(\"%H:%M:%S\")\n",
    "  print('Start time:', st_time)\n",
    "  return"
   ]
  },
  {
   "cell_type": "markdown",
   "metadata": {
    "id": "MvvSevh9lfTw"
   },
   "source": [
    "# Load in Main Data Frame"
   ]
  },
  {
   "cell_type": "code",
   "execution_count": 5,
   "metadata": {
    "colab": {
     "base_uri": "https://localhost:8080/",
     "height": 837
    },
    "execution": {
     "iopub.execute_input": "2021-03-25T03:52:54.471717Z",
     "iopub.status.busy": "2021-03-25T03:52:54.471280Z",
     "iopub.status.idle": "2021-03-25T03:52:54.723082Z",
     "shell.execute_reply": "2021-03-25T03:52:54.721754Z",
     "shell.execute_reply.started": "2021-03-25T03:52:54.471672Z"
    },
    "id": "TPh9fg5Olckj",
    "outputId": "e528342e-d208-4aaf-9dc8-0f69e26fa839"
   },
   "outputs": [
    {
     "ename": "FileNotFoundError",
     "evalue": "[Errno 2] No such file or directory: '/content/drive/MyDrive/Project5/af_tot_df.csv'",
     "output_type": "error",
     "traceback": [
      "\u001b[0;31m---------------------------------------------------------------------------\u001b[0m",
      "\u001b[0;31mFileNotFoundError\u001b[0m                         Traceback (most recent call last)",
      "\u001b[0;32m<ipython-input-5-59ef2e2745fe>\u001b[0m in \u001b[0;36m<module>\u001b[0;34m\u001b[0m\n\u001b[1;32m      4\u001b[0m \u001b[0;34m\u001b[0m\u001b[0m\n\u001b[1;32m      5\u001b[0m \u001b[0;31m#read in all data from drive\u001b[0m\u001b[0;34m\u001b[0m\u001b[0;34m\u001b[0m\u001b[0;34m\u001b[0m\u001b[0m\n\u001b[0;32m----> 6\u001b[0;31m \u001b[0maf_tot_df\u001b[0m \u001b[0;34m=\u001b[0m \u001b[0mpd\u001b[0m\u001b[0;34m.\u001b[0m\u001b[0mread_csv\u001b[0m\u001b[0;34m(\u001b[0m\u001b[0;34m'/content/drive/MyDrive/Project5/af_tot_df.csv'\u001b[0m\u001b[0;34m)\u001b[0m\u001b[0;34m\u001b[0m\u001b[0;34m\u001b[0m\u001b[0m\n\u001b[0m\u001b[1;32m      7\u001b[0m \u001b[0;31m#drop weird column 'Unnamed: 0' that appears\u001b[0m\u001b[0;34m\u001b[0m\u001b[0;34m\u001b[0m\u001b[0;34m\u001b[0m\u001b[0m\n\u001b[1;32m      8\u001b[0m \u001b[0maf_tot_df\u001b[0m \u001b[0;34m=\u001b[0m \u001b[0maf_tot_df\u001b[0m\u001b[0;34m.\u001b[0m\u001b[0mdrop\u001b[0m\u001b[0;34m(\u001b[0m\u001b[0mcolumns\u001b[0m\u001b[0;34m=\u001b[0m\u001b[0;34m[\u001b[0m\u001b[0;34m'Unnamed: 0'\u001b[0m\u001b[0;34m]\u001b[0m\u001b[0;34m)\u001b[0m\u001b[0;34m\u001b[0m\u001b[0;34m\u001b[0m\u001b[0m\n",
      "\u001b[0;32m~/opt/anaconda3/lib/python3.8/site-packages/pandas/io/parsers.py\u001b[0m in \u001b[0;36mread_csv\u001b[0;34m(filepath_or_buffer, sep, delimiter, header, names, index_col, usecols, squeeze, prefix, mangle_dupe_cols, dtype, engine, converters, true_values, false_values, skipinitialspace, skiprows, skipfooter, nrows, na_values, keep_default_na, na_filter, verbose, skip_blank_lines, parse_dates, infer_datetime_format, keep_date_col, date_parser, dayfirst, cache_dates, iterator, chunksize, compression, thousands, decimal, lineterminator, quotechar, quoting, doublequote, escapechar, comment, encoding, dialect, error_bad_lines, warn_bad_lines, delim_whitespace, low_memory, memory_map, float_precision, storage_options)\u001b[0m\n\u001b[1;32m    603\u001b[0m     \u001b[0mkwds\u001b[0m\u001b[0;34m.\u001b[0m\u001b[0mupdate\u001b[0m\u001b[0;34m(\u001b[0m\u001b[0mkwds_defaults\u001b[0m\u001b[0;34m)\u001b[0m\u001b[0;34m\u001b[0m\u001b[0;34m\u001b[0m\u001b[0m\n\u001b[1;32m    604\u001b[0m \u001b[0;34m\u001b[0m\u001b[0m\n\u001b[0;32m--> 605\u001b[0;31m     \u001b[0;32mreturn\u001b[0m \u001b[0m_read\u001b[0m\u001b[0;34m(\u001b[0m\u001b[0mfilepath_or_buffer\u001b[0m\u001b[0;34m,\u001b[0m \u001b[0mkwds\u001b[0m\u001b[0;34m)\u001b[0m\u001b[0;34m\u001b[0m\u001b[0;34m\u001b[0m\u001b[0m\n\u001b[0m\u001b[1;32m    606\u001b[0m \u001b[0;34m\u001b[0m\u001b[0m\n\u001b[1;32m    607\u001b[0m \u001b[0;34m\u001b[0m\u001b[0m\n",
      "\u001b[0;32m~/opt/anaconda3/lib/python3.8/site-packages/pandas/io/parsers.py\u001b[0m in \u001b[0;36m_read\u001b[0;34m(filepath_or_buffer, kwds)\u001b[0m\n\u001b[1;32m    455\u001b[0m \u001b[0;34m\u001b[0m\u001b[0m\n\u001b[1;32m    456\u001b[0m     \u001b[0;31m# Create the parser.\u001b[0m\u001b[0;34m\u001b[0m\u001b[0;34m\u001b[0m\u001b[0;34m\u001b[0m\u001b[0m\n\u001b[0;32m--> 457\u001b[0;31m     \u001b[0mparser\u001b[0m \u001b[0;34m=\u001b[0m \u001b[0mTextFileReader\u001b[0m\u001b[0;34m(\u001b[0m\u001b[0mfilepath_or_buffer\u001b[0m\u001b[0;34m,\u001b[0m \u001b[0;34m**\u001b[0m\u001b[0mkwds\u001b[0m\u001b[0;34m)\u001b[0m\u001b[0;34m\u001b[0m\u001b[0;34m\u001b[0m\u001b[0m\n\u001b[0m\u001b[1;32m    458\u001b[0m \u001b[0;34m\u001b[0m\u001b[0m\n\u001b[1;32m    459\u001b[0m     \u001b[0;32mif\u001b[0m \u001b[0mchunksize\u001b[0m \u001b[0;32mor\u001b[0m \u001b[0miterator\u001b[0m\u001b[0;34m:\u001b[0m\u001b[0;34m\u001b[0m\u001b[0;34m\u001b[0m\u001b[0m\n",
      "\u001b[0;32m~/opt/anaconda3/lib/python3.8/site-packages/pandas/io/parsers.py\u001b[0m in \u001b[0;36m__init__\u001b[0;34m(self, f, engine, **kwds)\u001b[0m\n\u001b[1;32m    812\u001b[0m             \u001b[0mself\u001b[0m\u001b[0;34m.\u001b[0m\u001b[0moptions\u001b[0m\u001b[0;34m[\u001b[0m\u001b[0;34m\"has_index_names\"\u001b[0m\u001b[0;34m]\u001b[0m \u001b[0;34m=\u001b[0m \u001b[0mkwds\u001b[0m\u001b[0;34m[\u001b[0m\u001b[0;34m\"has_index_names\"\u001b[0m\u001b[0;34m]\u001b[0m\u001b[0;34m\u001b[0m\u001b[0;34m\u001b[0m\u001b[0m\n\u001b[1;32m    813\u001b[0m \u001b[0;34m\u001b[0m\u001b[0m\n\u001b[0;32m--> 814\u001b[0;31m         \u001b[0mself\u001b[0m\u001b[0;34m.\u001b[0m\u001b[0m_engine\u001b[0m \u001b[0;34m=\u001b[0m \u001b[0mself\u001b[0m\u001b[0;34m.\u001b[0m\u001b[0m_make_engine\u001b[0m\u001b[0;34m(\u001b[0m\u001b[0mself\u001b[0m\u001b[0;34m.\u001b[0m\u001b[0mengine\u001b[0m\u001b[0;34m)\u001b[0m\u001b[0;34m\u001b[0m\u001b[0;34m\u001b[0m\u001b[0m\n\u001b[0m\u001b[1;32m    815\u001b[0m \u001b[0;34m\u001b[0m\u001b[0m\n\u001b[1;32m    816\u001b[0m     \u001b[0;32mdef\u001b[0m \u001b[0mclose\u001b[0m\u001b[0;34m(\u001b[0m\u001b[0mself\u001b[0m\u001b[0;34m)\u001b[0m\u001b[0;34m:\u001b[0m\u001b[0;34m\u001b[0m\u001b[0;34m\u001b[0m\u001b[0m\n",
      "\u001b[0;32m~/opt/anaconda3/lib/python3.8/site-packages/pandas/io/parsers.py\u001b[0m in \u001b[0;36m_make_engine\u001b[0;34m(self, engine)\u001b[0m\n\u001b[1;32m   1043\u001b[0m             )\n\u001b[1;32m   1044\u001b[0m         \u001b[0;31m# error: Too many arguments for \"ParserBase\"\u001b[0m\u001b[0;34m\u001b[0m\u001b[0;34m\u001b[0m\u001b[0;34m\u001b[0m\u001b[0m\n\u001b[0;32m-> 1045\u001b[0;31m         \u001b[0;32mreturn\u001b[0m \u001b[0mmapping\u001b[0m\u001b[0;34m[\u001b[0m\u001b[0mengine\u001b[0m\u001b[0;34m]\u001b[0m\u001b[0;34m(\u001b[0m\u001b[0mself\u001b[0m\u001b[0;34m.\u001b[0m\u001b[0mf\u001b[0m\u001b[0;34m,\u001b[0m \u001b[0;34m**\u001b[0m\u001b[0mself\u001b[0m\u001b[0;34m.\u001b[0m\u001b[0moptions\u001b[0m\u001b[0;34m)\u001b[0m  \u001b[0;31m# type: ignore[call-arg]\u001b[0m\u001b[0;34m\u001b[0m\u001b[0;34m\u001b[0m\u001b[0m\n\u001b[0m\u001b[1;32m   1046\u001b[0m \u001b[0;34m\u001b[0m\u001b[0m\n\u001b[1;32m   1047\u001b[0m     \u001b[0;32mdef\u001b[0m \u001b[0m_failover_to_python\u001b[0m\u001b[0;34m(\u001b[0m\u001b[0mself\u001b[0m\u001b[0;34m)\u001b[0m\u001b[0;34m:\u001b[0m\u001b[0;34m\u001b[0m\u001b[0;34m\u001b[0m\u001b[0m\n",
      "\u001b[0;32m~/opt/anaconda3/lib/python3.8/site-packages/pandas/io/parsers.py\u001b[0m in \u001b[0;36m__init__\u001b[0;34m(self, src, **kwds)\u001b[0m\n\u001b[1;32m   1860\u001b[0m \u001b[0;34m\u001b[0m\u001b[0m\n\u001b[1;32m   1861\u001b[0m         \u001b[0;31m# open handles\u001b[0m\u001b[0;34m\u001b[0m\u001b[0;34m\u001b[0m\u001b[0;34m\u001b[0m\u001b[0m\n\u001b[0;32m-> 1862\u001b[0;31m         \u001b[0mself\u001b[0m\u001b[0;34m.\u001b[0m\u001b[0m_open_handles\u001b[0m\u001b[0;34m(\u001b[0m\u001b[0msrc\u001b[0m\u001b[0;34m,\u001b[0m \u001b[0mkwds\u001b[0m\u001b[0;34m)\u001b[0m\u001b[0;34m\u001b[0m\u001b[0;34m\u001b[0m\u001b[0m\n\u001b[0m\u001b[1;32m   1863\u001b[0m         \u001b[0;32massert\u001b[0m \u001b[0mself\u001b[0m\u001b[0;34m.\u001b[0m\u001b[0mhandles\u001b[0m \u001b[0;32mis\u001b[0m \u001b[0;32mnot\u001b[0m \u001b[0;32mNone\u001b[0m\u001b[0;34m\u001b[0m\u001b[0;34m\u001b[0m\u001b[0m\n\u001b[1;32m   1864\u001b[0m         \u001b[0;32mfor\u001b[0m \u001b[0mkey\u001b[0m \u001b[0;32min\u001b[0m \u001b[0;34m(\u001b[0m\u001b[0;34m\"storage_options\"\u001b[0m\u001b[0;34m,\u001b[0m \u001b[0;34m\"encoding\"\u001b[0m\u001b[0;34m,\u001b[0m \u001b[0;34m\"memory_map\"\u001b[0m\u001b[0;34m,\u001b[0m \u001b[0;34m\"compression\"\u001b[0m\u001b[0;34m)\u001b[0m\u001b[0;34m:\u001b[0m\u001b[0;34m\u001b[0m\u001b[0;34m\u001b[0m\u001b[0m\n",
      "\u001b[0;32m~/opt/anaconda3/lib/python3.8/site-packages/pandas/io/parsers.py\u001b[0m in \u001b[0;36m_open_handles\u001b[0;34m(self, src, kwds)\u001b[0m\n\u001b[1;32m   1355\u001b[0m         \u001b[0mLet\u001b[0m \u001b[0mthe\u001b[0m \u001b[0mreaders\u001b[0m \u001b[0mopen\u001b[0m \u001b[0mIOHanldes\u001b[0m \u001b[0mafter\u001b[0m \u001b[0mthey\u001b[0m \u001b[0mare\u001b[0m \u001b[0mdone\u001b[0m \u001b[0;32mwith\u001b[0m \u001b[0mtheir\u001b[0m \u001b[0mpotential\u001b[0m \u001b[0mraises\u001b[0m\u001b[0;34m.\u001b[0m\u001b[0;34m\u001b[0m\u001b[0;34m\u001b[0m\u001b[0m\n\u001b[1;32m   1356\u001b[0m         \"\"\"\n\u001b[0;32m-> 1357\u001b[0;31m         self.handles = get_handle(\n\u001b[0m\u001b[1;32m   1358\u001b[0m             \u001b[0msrc\u001b[0m\u001b[0;34m,\u001b[0m\u001b[0;34m\u001b[0m\u001b[0;34m\u001b[0m\u001b[0m\n\u001b[1;32m   1359\u001b[0m             \u001b[0;34m\"r\"\u001b[0m\u001b[0;34m,\u001b[0m\u001b[0;34m\u001b[0m\u001b[0;34m\u001b[0m\u001b[0m\n",
      "\u001b[0;32m~/opt/anaconda3/lib/python3.8/site-packages/pandas/io/common.py\u001b[0m in \u001b[0;36mget_handle\u001b[0;34m(path_or_buf, mode, encoding, compression, memory_map, is_text, errors, storage_options)\u001b[0m\n\u001b[1;32m    640\u001b[0m                 \u001b[0merrors\u001b[0m \u001b[0;34m=\u001b[0m \u001b[0;34m\"replace\"\u001b[0m\u001b[0;34m\u001b[0m\u001b[0;34m\u001b[0m\u001b[0m\n\u001b[1;32m    641\u001b[0m             \u001b[0;31m# Encoding\u001b[0m\u001b[0;34m\u001b[0m\u001b[0;34m\u001b[0m\u001b[0;34m\u001b[0m\u001b[0m\n\u001b[0;32m--> 642\u001b[0;31m             handle = open(\n\u001b[0m\u001b[1;32m    643\u001b[0m                 \u001b[0mhandle\u001b[0m\u001b[0;34m,\u001b[0m\u001b[0;34m\u001b[0m\u001b[0;34m\u001b[0m\u001b[0m\n\u001b[1;32m    644\u001b[0m                 \u001b[0mioargs\u001b[0m\u001b[0;34m.\u001b[0m\u001b[0mmode\u001b[0m\u001b[0;34m,\u001b[0m\u001b[0;34m\u001b[0m\u001b[0;34m\u001b[0m\u001b[0m\n",
      "\u001b[0;31mFileNotFoundError\u001b[0m: [Errno 2] No such file or directory: '/content/drive/MyDrive/Project5/af_tot_df.csv'"
     ]
    },
    {
     "name": "stdout",
     "output_type": "stream",
     "text": [
      "time: 246 ms (started: 2021-03-24 20:52:54 -07:00)\n"
     ]
    }
   ],
   "source": [
    "#This is the dataframe used from all ~82,000 songs taken from a single day's session.\n",
    "# Use this data frame to put into the \"df.sample(n=)\"\" function then add the tracer\n",
    "# album file af_vv_df.\n",
    "\n",
    "#read in all data from drive\n",
    "af_tot_df = pd.read_csv('/content/drive/MyDrive/Project5/af_tot_df.csv')\n",
    "#drop weird column 'Unnamed: 0' that appears\n",
    "af_tot_df = af_tot_df.drop(columns=['Unnamed: 0'])\n",
    "#assign track_id to a new column as 'track_id2' and set 'track_id' to index.\n",
    "af_tot_df['track_idi']=af_tot_df['track_id']\n",
    "#set index as 'track_id' since it's the unique identifier for every song and can call in all data.\n",
    "af_tot_df.index=af_tot_df['track_idi']\n",
    "#show the dataframe to see results\n",
    "af_tot_df"
   ]
  },
  {
   "cell_type": "markdown",
   "metadata": {
    "id": "bnkMhgjJlvar"
   },
   "source": [
    "# Load in Tracer Tracks"
   ]
  },
  {
   "cell_type": "code",
   "execution_count": null,
   "metadata": {
    "colab": {
     "base_uri": "https://localhost:8080/",
     "height": 541
    },
    "id": "yz7tckiyliC4",
    "outputId": "599dd546-095f-4636-f644-6d1ac7617b12"
   },
   "outputs": [
    {
     "data": {
      "text/html": [
       "<div>\n",
       "<style scoped>\n",
       "    .dataframe tbody tr th:only-of-type {\n",
       "        vertical-align: middle;\n",
       "    }\n",
       "\n",
       "    .dataframe tbody tr th {\n",
       "        vertical-align: top;\n",
       "    }\n",
       "\n",
       "    .dataframe thead th {\n",
       "        text-align: right;\n",
       "    }\n",
       "</style>\n",
       "<table border=\"1\" class=\"dataframe\">\n",
       "  <thead>\n",
       "    <tr style=\"text-align: right;\">\n",
       "      <th></th>\n",
       "      <th>track_id</th>\n",
       "      <th>track_name</th>\n",
       "      <th>album_id</th>\n",
       "      <th>album_name</th>\n",
       "      <th>artist_id</th>\n",
       "      <th>artist_name</th>\n",
       "      <th>track_preview_url</th>\n",
       "      <th>track_number</th>\n",
       "      <th>track_href</th>\n",
       "      <th>track_external_urls</th>\n",
       "      <th>track_external_id_isrc</th>\n",
       "      <th>album_href</th>\n",
       "      <th>album_ext_url</th>\n",
       "      <th>album_release_date</th>\n",
       "      <th>album_release_date_precision</th>\n",
       "      <th>album_total_tracks</th>\n",
       "      <th>album_type</th>\n",
       "      <th>album_image_large</th>\n",
       "      <th>album_image_medium</th>\n",
       "      <th>album_image_small</th>\n",
       "      <th>artist_href</th>\n",
       "      <th>artists_ext_url</th>\n",
       "      <th>acousticness</th>\n",
       "      <th>danceability</th>\n",
       "      <th>energy</th>\n",
       "      <th>instrumentalness</th>\n",
       "      <th>key</th>\n",
       "      <th>liveness</th>\n",
       "      <th>loudness</th>\n",
       "      <th>mode</th>\n",
       "      <th>popularity</th>\n",
       "      <th>speechiness</th>\n",
       "      <th>tempo</th>\n",
       "      <th>time_signature</th>\n",
       "      <th>track_length</th>\n",
       "      <th>valence</th>\n",
       "    </tr>\n",
       "    <tr>\n",
       "      <th>track_idi</th>\n",
       "      <th></th>\n",
       "      <th></th>\n",
       "      <th></th>\n",
       "      <th></th>\n",
       "      <th></th>\n",
       "      <th></th>\n",
       "      <th></th>\n",
       "      <th></th>\n",
       "      <th></th>\n",
       "      <th></th>\n",
       "      <th></th>\n",
       "      <th></th>\n",
       "      <th></th>\n",
       "      <th></th>\n",
       "      <th></th>\n",
       "      <th></th>\n",
       "      <th></th>\n",
       "      <th></th>\n",
       "      <th></th>\n",
       "      <th></th>\n",
       "      <th></th>\n",
       "      <th></th>\n",
       "      <th></th>\n",
       "      <th></th>\n",
       "      <th></th>\n",
       "      <th></th>\n",
       "      <th></th>\n",
       "      <th></th>\n",
       "      <th></th>\n",
       "      <th></th>\n",
       "      <th></th>\n",
       "      <th></th>\n",
       "      <th></th>\n",
       "      <th></th>\n",
       "      <th></th>\n",
       "      <th></th>\n",
       "    </tr>\n",
       "  </thead>\n",
       "  <tbody>\n",
       "    <tr>\n",
       "      <th>57lYOdic1C2GVyTPZsJhlB</th>\n",
       "      <td>57lYOdic1C2GVyTPZsJhlB</td>\n",
       "      <td>Necksweat</td>\n",
       "      <td>72yXt1N6iw8TnCG4KeX5pr</td>\n",
       "      <td>Immolate</td>\n",
       "      <td>3hFXoighTNpdkuXcwFu09n</td>\n",
       "      <td>Vaso Vagal</td>\n",
       "      <td>https://p.scdn.co/mp3-preview/dee897818c302af8...</td>\n",
       "      <td>1</td>\n",
       "      <td>https://api.spotify.com/v1/tracks/57lYOdic1C2G...</td>\n",
       "      <td>https://open.spotify.com/track/57lYOdic1C2GVyT...</td>\n",
       "      <td>TCADA1792090</td>\n",
       "      <td>https://api.spotify.com/v1/albums/72yXt1N6iw8T...</td>\n",
       "      <td>https://open.spotify.com/album/72yXt1N6iw8TnCG...</td>\n",
       "      <td>2017-05-12</td>\n",
       "      <td>day</td>\n",
       "      <td>9</td>\n",
       "      <td>album</td>\n",
       "      <td>https://i.scdn.co/image/ab67616d0000b273368290...</td>\n",
       "      <td>https://i.scdn.co/image/ab67616d00001e02368290...</td>\n",
       "      <td>https://i.scdn.co/image/ab67616d00004851368290...</td>\n",
       "      <td>https://api.spotify.com/v1/artists/3hFXoighTNp...</td>\n",
       "      <td>https://open.spotify.com/artist/3hFXoighTNpdku...</td>\n",
       "      <td>0.749000</td>\n",
       "      <td>0.352</td>\n",
       "      <td>0.369</td>\n",
       "      <td>0.929</td>\n",
       "      <td>9</td>\n",
       "      <td>0.1080</td>\n",
       "      <td>-9.028</td>\n",
       "      <td>1</td>\n",
       "      <td>0</td>\n",
       "      <td>0.0445</td>\n",
       "      <td>123.566</td>\n",
       "      <td>4</td>\n",
       "      <td>300176</td>\n",
       "      <td>0.3590</td>\n",
       "    </tr>\n",
       "    <tr>\n",
       "      <th>3Rv7s6zTx6KTYZfrpBdW4C</th>\n",
       "      <td>3Rv7s6zTx6KTYZfrpBdW4C</td>\n",
       "      <td>Soar</td>\n",
       "      <td>72yXt1N6iw8TnCG4KeX5pr</td>\n",
       "      <td>Immolate</td>\n",
       "      <td>3hFXoighTNpdkuXcwFu09n</td>\n",
       "      <td>Vaso Vagal</td>\n",
       "      <td>https://p.scdn.co/mp3-preview/2f8fe8e08ca3cdae...</td>\n",
       "      <td>2</td>\n",
       "      <td>https://api.spotify.com/v1/tracks/3Rv7s6zTx6KT...</td>\n",
       "      <td>https://open.spotify.com/track/3Rv7s6zTx6KTYZf...</td>\n",
       "      <td>TCADA1792174</td>\n",
       "      <td>https://api.spotify.com/v1/albums/72yXt1N6iw8T...</td>\n",
       "      <td>https://open.spotify.com/album/72yXt1N6iw8TnCG...</td>\n",
       "      <td>2017-05-12</td>\n",
       "      <td>day</td>\n",
       "      <td>9</td>\n",
       "      <td>album</td>\n",
       "      <td>https://i.scdn.co/image/ab67616d0000b273368290...</td>\n",
       "      <td>https://i.scdn.co/image/ab67616d00001e02368290...</td>\n",
       "      <td>https://i.scdn.co/image/ab67616d00004851368290...</td>\n",
       "      <td>https://api.spotify.com/v1/artists/3hFXoighTNp...</td>\n",
       "      <td>https://open.spotify.com/artist/3hFXoighTNpdku...</td>\n",
       "      <td>0.719000</td>\n",
       "      <td>0.349</td>\n",
       "      <td>0.367</td>\n",
       "      <td>0.423</td>\n",
       "      <td>7</td>\n",
       "      <td>0.0568</td>\n",
       "      <td>-7.647</td>\n",
       "      <td>1</td>\n",
       "      <td>0</td>\n",
       "      <td>0.0430</td>\n",
       "      <td>158.815</td>\n",
       "      <td>4</td>\n",
       "      <td>246319</td>\n",
       "      <td>0.1330</td>\n",
       "    </tr>\n",
       "    <tr>\n",
       "      <th>0Qj2eDY1Nku7OGymMs8HGz</th>\n",
       "      <td>0Qj2eDY1Nku7OGymMs8HGz</td>\n",
       "      <td>Cascade</td>\n",
       "      <td>72yXt1N6iw8TnCG4KeX5pr</td>\n",
       "      <td>Immolate</td>\n",
       "      <td>3hFXoighTNpdkuXcwFu09n</td>\n",
       "      <td>Vaso Vagal</td>\n",
       "      <td>https://p.scdn.co/mp3-preview/6f095534525eec32...</td>\n",
       "      <td>3</td>\n",
       "      <td>https://api.spotify.com/v1/tracks/0Qj2eDY1Nku7...</td>\n",
       "      <td>https://open.spotify.com/track/0Qj2eDY1Nku7OGy...</td>\n",
       "      <td>TCADA1792176</td>\n",
       "      <td>https://api.spotify.com/v1/albums/72yXt1N6iw8T...</td>\n",
       "      <td>https://open.spotify.com/album/72yXt1N6iw8TnCG...</td>\n",
       "      <td>2017-05-12</td>\n",
       "      <td>day</td>\n",
       "      <td>9</td>\n",
       "      <td>album</td>\n",
       "      <td>https://i.scdn.co/image/ab67616d0000b273368290...</td>\n",
       "      <td>https://i.scdn.co/image/ab67616d00001e02368290...</td>\n",
       "      <td>https://i.scdn.co/image/ab67616d00004851368290...</td>\n",
       "      <td>https://api.spotify.com/v1/artists/3hFXoighTNp...</td>\n",
       "      <td>https://open.spotify.com/artist/3hFXoighTNpdku...</td>\n",
       "      <td>0.913000</td>\n",
       "      <td>0.496</td>\n",
       "      <td>0.167</td>\n",
       "      <td>0.964</td>\n",
       "      <td>1</td>\n",
       "      <td>0.0853</td>\n",
       "      <td>-8.508</td>\n",
       "      <td>0</td>\n",
       "      <td>0</td>\n",
       "      <td>0.0445</td>\n",
       "      <td>99.872</td>\n",
       "      <td>4</td>\n",
       "      <td>253442</td>\n",
       "      <td>0.2380</td>\n",
       "    </tr>\n",
       "    <tr>\n",
       "      <th>2pgLRrQEvDwd6jTXGDswQm</th>\n",
       "      <td>2pgLRrQEvDwd6jTXGDswQm</td>\n",
       "      <td>Ausländer</td>\n",
       "      <td>72yXt1N6iw8TnCG4KeX5pr</td>\n",
       "      <td>Immolate</td>\n",
       "      <td>3hFXoighTNpdkuXcwFu09n</td>\n",
       "      <td>Vaso Vagal</td>\n",
       "      <td>https://p.scdn.co/mp3-preview/f6ec6a950b478ce3...</td>\n",
       "      <td>4</td>\n",
       "      <td>https://api.spotify.com/v1/tracks/2pgLRrQEvDwd...</td>\n",
       "      <td>https://open.spotify.com/track/2pgLRrQEvDwd6jT...</td>\n",
       "      <td>TCADA1792177</td>\n",
       "      <td>https://api.spotify.com/v1/albums/72yXt1N6iw8T...</td>\n",
       "      <td>https://open.spotify.com/album/72yXt1N6iw8TnCG...</td>\n",
       "      <td>2017-05-12</td>\n",
       "      <td>day</td>\n",
       "      <td>9</td>\n",
       "      <td>album</td>\n",
       "      <td>https://i.scdn.co/image/ab67616d0000b273368290...</td>\n",
       "      <td>https://i.scdn.co/image/ab67616d00001e02368290...</td>\n",
       "      <td>https://i.scdn.co/image/ab67616d00004851368290...</td>\n",
       "      <td>https://api.spotify.com/v1/artists/3hFXoighTNp...</td>\n",
       "      <td>https://open.spotify.com/artist/3hFXoighTNpdku...</td>\n",
       "      <td>0.655000</td>\n",
       "      <td>0.318</td>\n",
       "      <td>0.272</td>\n",
       "      <td>0.962</td>\n",
       "      <td>4</td>\n",
       "      <td>0.1050</td>\n",
       "      <td>-11.335</td>\n",
       "      <td>0</td>\n",
       "      <td>0</td>\n",
       "      <td>0.0339</td>\n",
       "      <td>97.206</td>\n",
       "      <td>4</td>\n",
       "      <td>361024</td>\n",
       "      <td>0.0389</td>\n",
       "    </tr>\n",
       "    <tr>\n",
       "      <th>5SzbfdSfxmmlyTEZcpb3EH</th>\n",
       "      <td>5SzbfdSfxmmlyTEZcpb3EH</td>\n",
       "      <td>County Fair</td>\n",
       "      <td>72yXt1N6iw8TnCG4KeX5pr</td>\n",
       "      <td>Immolate</td>\n",
       "      <td>3hFXoighTNpdkuXcwFu09n</td>\n",
       "      <td>Vaso Vagal</td>\n",
       "      <td>https://p.scdn.co/mp3-preview/f148a09e067891d4...</td>\n",
       "      <td>5</td>\n",
       "      <td>https://api.spotify.com/v1/tracks/5SzbfdSfxmml...</td>\n",
       "      <td>https://open.spotify.com/track/5SzbfdSfxmmlyTE...</td>\n",
       "      <td>TCADA1792179</td>\n",
       "      <td>https://api.spotify.com/v1/albums/72yXt1N6iw8T...</td>\n",
       "      <td>https://open.spotify.com/album/72yXt1N6iw8TnCG...</td>\n",
       "      <td>2017-05-12</td>\n",
       "      <td>day</td>\n",
       "      <td>9</td>\n",
       "      <td>album</td>\n",
       "      <td>https://i.scdn.co/image/ab67616d0000b273368290...</td>\n",
       "      <td>https://i.scdn.co/image/ab67616d00001e02368290...</td>\n",
       "      <td>https://i.scdn.co/image/ab67616d00004851368290...</td>\n",
       "      <td>https://api.spotify.com/v1/artists/3hFXoighTNp...</td>\n",
       "      <td>https://open.spotify.com/artist/3hFXoighTNpdku...</td>\n",
       "      <td>0.867000</td>\n",
       "      <td>0.227</td>\n",
       "      <td>0.614</td>\n",
       "      <td>0.967</td>\n",
       "      <td>7</td>\n",
       "      <td>0.1830</td>\n",
       "      <td>-13.837</td>\n",
       "      <td>1</td>\n",
       "      <td>0</td>\n",
       "      <td>0.0361</td>\n",
       "      <td>206.966</td>\n",
       "      <td>4</td>\n",
       "      <td>59789</td>\n",
       "      <td>0.6400</td>\n",
       "    </tr>\n",
       "    <tr>\n",
       "      <th>6wUEUO6bE1R84LAB7TIAIs</th>\n",
       "      <td>6wUEUO6bE1R84LAB7TIAIs</td>\n",
       "      <td>Throb</td>\n",
       "      <td>72yXt1N6iw8TnCG4KeX5pr</td>\n",
       "      <td>Immolate</td>\n",
       "      <td>3hFXoighTNpdkuXcwFu09n</td>\n",
       "      <td>Vaso Vagal</td>\n",
       "      <td>https://p.scdn.co/mp3-preview/25a3ecd935677d0a...</td>\n",
       "      <td>6</td>\n",
       "      <td>https://api.spotify.com/v1/tracks/6wUEUO6bE1R8...</td>\n",
       "      <td>https://open.spotify.com/track/6wUEUO6bE1R84LA...</td>\n",
       "      <td>TCADA1792180</td>\n",
       "      <td>https://api.spotify.com/v1/albums/72yXt1N6iw8T...</td>\n",
       "      <td>https://open.spotify.com/album/72yXt1N6iw8TnCG...</td>\n",
       "      <td>2017-05-12</td>\n",
       "      <td>day</td>\n",
       "      <td>9</td>\n",
       "      <td>album</td>\n",
       "      <td>https://i.scdn.co/image/ab67616d0000b273368290...</td>\n",
       "      <td>https://i.scdn.co/image/ab67616d00001e02368290...</td>\n",
       "      <td>https://i.scdn.co/image/ab67616d00004851368290...</td>\n",
       "      <td>https://api.spotify.com/v1/artists/3hFXoighTNp...</td>\n",
       "      <td>https://open.spotify.com/artist/3hFXoighTNpdku...</td>\n",
       "      <td>0.000508</td>\n",
       "      <td>0.453</td>\n",
       "      <td>0.645</td>\n",
       "      <td>0.878</td>\n",
       "      <td>0</td>\n",
       "      <td>0.2520</td>\n",
       "      <td>-5.622</td>\n",
       "      <td>1</td>\n",
       "      <td>0</td>\n",
       "      <td>0.0328</td>\n",
       "      <td>73.853</td>\n",
       "      <td>4</td>\n",
       "      <td>261492</td>\n",
       "      <td>0.4080</td>\n",
       "    </tr>\n",
       "    <tr>\n",
       "      <th>09u4feGdXwYsvH7hWObLPw</th>\n",
       "      <td>09u4feGdXwYsvH7hWObLPw</td>\n",
       "      <td>Rudderless</td>\n",
       "      <td>72yXt1N6iw8TnCG4KeX5pr</td>\n",
       "      <td>Immolate</td>\n",
       "      <td>3hFXoighTNpdkuXcwFu09n</td>\n",
       "      <td>Vaso Vagal</td>\n",
       "      <td>https://p.scdn.co/mp3-preview/73ab99385a13f17b...</td>\n",
       "      <td>7</td>\n",
       "      <td>https://api.spotify.com/v1/tracks/09u4feGdXwYs...</td>\n",
       "      <td>https://open.spotify.com/track/09u4feGdXwYsvH7...</td>\n",
       "      <td>TCADA1792181</td>\n",
       "      <td>https://api.spotify.com/v1/albums/72yXt1N6iw8T...</td>\n",
       "      <td>https://open.spotify.com/album/72yXt1N6iw8TnCG...</td>\n",
       "      <td>2017-05-12</td>\n",
       "      <td>day</td>\n",
       "      <td>9</td>\n",
       "      <td>album</td>\n",
       "      <td>https://i.scdn.co/image/ab67616d0000b273368290...</td>\n",
       "      <td>https://i.scdn.co/image/ab67616d00001e02368290...</td>\n",
       "      <td>https://i.scdn.co/image/ab67616d00004851368290...</td>\n",
       "      <td>https://api.spotify.com/v1/artists/3hFXoighTNp...</td>\n",
       "      <td>https://open.spotify.com/artist/3hFXoighTNpdku...</td>\n",
       "      <td>0.758000</td>\n",
       "      <td>0.330</td>\n",
       "      <td>0.361</td>\n",
       "      <td>0.900</td>\n",
       "      <td>9</td>\n",
       "      <td>0.1070</td>\n",
       "      <td>-8.361</td>\n",
       "      <td>1</td>\n",
       "      <td>0</td>\n",
       "      <td>0.0353</td>\n",
       "      <td>99.043</td>\n",
       "      <td>4</td>\n",
       "      <td>393685</td>\n",
       "      <td>0.1180</td>\n",
       "    </tr>\n",
       "    <tr>\n",
       "      <th>0q4ADFP0VAFpTKyAnWuU0e</th>\n",
       "      <td>0q4ADFP0VAFpTKyAnWuU0e</td>\n",
       "      <td>Immolate</td>\n",
       "      <td>72yXt1N6iw8TnCG4KeX5pr</td>\n",
       "      <td>Immolate</td>\n",
       "      <td>3hFXoighTNpdkuXcwFu09n</td>\n",
       "      <td>Vaso Vagal</td>\n",
       "      <td>https://p.scdn.co/mp3-preview/852da18ffb25ac36...</td>\n",
       "      <td>8</td>\n",
       "      <td>https://api.spotify.com/v1/tracks/0q4ADFP0VAFp...</td>\n",
       "      <td>https://open.spotify.com/track/0q4ADFP0VAFpTKy...</td>\n",
       "      <td>TCADA1792183</td>\n",
       "      <td>https://api.spotify.com/v1/albums/72yXt1N6iw8T...</td>\n",
       "      <td>https://open.spotify.com/album/72yXt1N6iw8TnCG...</td>\n",
       "      <td>2017-05-12</td>\n",
       "      <td>day</td>\n",
       "      <td>9</td>\n",
       "      <td>album</td>\n",
       "      <td>https://i.scdn.co/image/ab67616d0000b273368290...</td>\n",
       "      <td>https://i.scdn.co/image/ab67616d00001e02368290...</td>\n",
       "      <td>https://i.scdn.co/image/ab67616d00004851368290...</td>\n",
       "      <td>https://api.spotify.com/v1/artists/3hFXoighTNp...</td>\n",
       "      <td>https://open.spotify.com/artist/3hFXoighTNpdku...</td>\n",
       "      <td>0.418000</td>\n",
       "      <td>0.283</td>\n",
       "      <td>0.468</td>\n",
       "      <td>0.969</td>\n",
       "      <td>7</td>\n",
       "      <td>0.1150</td>\n",
       "      <td>-7.700</td>\n",
       "      <td>1</td>\n",
       "      <td>0</td>\n",
       "      <td>0.0391</td>\n",
       "      <td>112.867</td>\n",
       "      <td>4</td>\n",
       "      <td>480000</td>\n",
       "      <td>0.2810</td>\n",
       "    </tr>\n",
       "    <tr>\n",
       "      <th>7mxdqQjhmmv1iPdrE6VEmB</th>\n",
       "      <td>7mxdqQjhmmv1iPdrE6VEmB</td>\n",
       "      <td>Anomia</td>\n",
       "      <td>72yXt1N6iw8TnCG4KeX5pr</td>\n",
       "      <td>Immolate</td>\n",
       "      <td>3hFXoighTNpdkuXcwFu09n</td>\n",
       "      <td>Vaso Vagal</td>\n",
       "      <td>https://p.scdn.co/mp3-preview/f9d26dd324467589...</td>\n",
       "      <td>9</td>\n",
       "      <td>https://api.spotify.com/v1/tracks/7mxdqQjhmmv1...</td>\n",
       "      <td>https://open.spotify.com/track/7mxdqQjhmmv1iPd...</td>\n",
       "      <td>TCADA1792189</td>\n",
       "      <td>https://api.spotify.com/v1/albums/72yXt1N6iw8T...</td>\n",
       "      <td>https://open.spotify.com/album/72yXt1N6iw8TnCG...</td>\n",
       "      <td>2017-05-12</td>\n",
       "      <td>day</td>\n",
       "      <td>9</td>\n",
       "      <td>album</td>\n",
       "      <td>https://i.scdn.co/image/ab67616d0000b273368290...</td>\n",
       "      <td>https://i.scdn.co/image/ab67616d00001e02368290...</td>\n",
       "      <td>https://i.scdn.co/image/ab67616d00004851368290...</td>\n",
       "      <td>https://api.spotify.com/v1/artists/3hFXoighTNp...</td>\n",
       "      <td>https://open.spotify.com/artist/3hFXoighTNpdku...</td>\n",
       "      <td>0.859000</td>\n",
       "      <td>0.735</td>\n",
       "      <td>0.164</td>\n",
       "      <td>0.905</td>\n",
       "      <td>0</td>\n",
       "      <td>0.1220</td>\n",
       "      <td>-13.939</td>\n",
       "      <td>1</td>\n",
       "      <td>0</td>\n",
       "      <td>0.0584</td>\n",
       "      <td>66.188</td>\n",
       "      <td>4</td>\n",
       "      <td>84608</td>\n",
       "      <td>0.3570</td>\n",
       "    </tr>\n",
       "  </tbody>\n",
       "</table>\n",
       "</div>"
      ],
      "text/plain": [
       "                                      track_id  ... valence\n",
       "track_idi                                       ...        \n",
       "57lYOdic1C2GVyTPZsJhlB  57lYOdic1C2GVyTPZsJhlB  ...  0.3590\n",
       "3Rv7s6zTx6KTYZfrpBdW4C  3Rv7s6zTx6KTYZfrpBdW4C  ...  0.1330\n",
       "0Qj2eDY1Nku7OGymMs8HGz  0Qj2eDY1Nku7OGymMs8HGz  ...  0.2380\n",
       "2pgLRrQEvDwd6jTXGDswQm  2pgLRrQEvDwd6jTXGDswQm  ...  0.0389\n",
       "5SzbfdSfxmmlyTEZcpb3EH  5SzbfdSfxmmlyTEZcpb3EH  ...  0.6400\n",
       "6wUEUO6bE1R84LAB7TIAIs  6wUEUO6bE1R84LAB7TIAIs  ...  0.4080\n",
       "09u4feGdXwYsvH7hWObLPw  09u4feGdXwYsvH7hWObLPw  ...  0.1180\n",
       "0q4ADFP0VAFpTKyAnWuU0e  0q4ADFP0VAFpTKyAnWuU0e  ...  0.2810\n",
       "7mxdqQjhmmv1iPdrE6VEmB  7mxdqQjhmmv1iPdrE6VEmB  ...  0.3570\n",
       "\n",
       "[9 rows x 36 columns]"
      ]
     },
     "execution_count": 5,
     "metadata": {
      "tags": []
     },
     "output_type": "execute_result"
    },
    {
     "name": "stdout",
     "output_type": "stream",
     "text": [
      "time: 75 ms (started: 2021-03-23 04:28:08 +00:00)\n"
     ]
    }
   ],
   "source": [
    "#Tracer album to be put into library after random sampling.\n",
    "#read in all data from drive\n",
    "af_vv_df = pd.read_csv('/content/drive/MyDrive/Project5/af_vv_df.csv')\n",
    "##drop weird column 'Unnamed: 0' that appears \n",
    "af_vv_df = af_vv_df.drop(columns=['Unnamed: 0'])\n",
    "#assign track_id to a new column as 'track_id2' and set 'track_id' to index.\n",
    "af_vv_df['track_idi']=af_vv_df['track_id']\n",
    "#set index as 'track_id' since it's the unique identifier for every song and can call in all data.\n",
    "af_vv_df.index=af_vv_df['track_idi']\n",
    "af_vv_df = af_vv_df.drop(columns=['track_idi'])\n",
    "#show the dataframe to see results\n",
    "af_vv_df"
   ]
  },
  {
   "cell_type": "markdown",
   "metadata": {
    "id": "-xC6ahwAl6rk"
   },
   "source": [
    "## 9 Tracer tracks so make 9 matrices"
   ]
  },
  {
   "cell_type": "code",
   "execution_count": null,
   "metadata": {
    "colab": {
     "base_uri": "https://localhost:8080/"
    },
    "id": "aVQjV_iclxoS",
    "outputId": "be0c3603-c29b-4c9f-818d-d892d7f7328c"
   },
   "outputs": [
    {
     "name": "stdout",
     "output_type": "stream",
     "text": [
      "time: 4.55 ms (started: 2021-03-23 04:28:09 +00:00)\n"
     ]
    }
   ],
   "source": [
    "#IN = big dataframe (\"df_in\"), slice size (\"sice_size\")\n",
    "#OUT= matrices 'slice_size' rows long in the form of a list of dataframes\n",
    "\n",
    "#How? Slicing as functions of input\n",
    "def matrixSplit(df_in,slice_size):\n",
    "  df_slices = []                                                      #empty list to add df slices to\n",
    "  rows_to_split = len(df_in)                                          #counter of len of the rows left to remove via slicing\n",
    "  while rows_to_split > slice_size:\n",
    "    df_slices.append(df_in[(rows_to_split-slice_size):rows_to_split]) #append with matrix slice from a counter that will go down by the slice size each iteration\n",
    "    rows_to_split -= slice_size                                       #this subtracts the slice size from the counter\n",
    "  else:                                                               #when the conter is less than the slice size\n",
    "    df_slices.append(df_in[0:rows_to_split])                          #then slice from 0 to remainder\n",
    "  return df_slices                                                    #return the list of df slices"
   ]
  },
  {
   "cell_type": "code",
   "execution_count": null,
   "metadata": {
    "colab": {
     "base_uri": "https://localhost:8080/"
    },
    "id": "twRccArSmArT",
    "outputId": "e1467c59-2b35-4a51-f4f8-58859b2f0f76"
   },
   "outputs": [
    {
     "name": "stdout",
     "output_type": "stream",
     "text": [
      "time: 21.4 ms (started: 2021-03-23 04:28:10 +00:00)\n"
     ]
    }
   ],
   "source": [
    "#Run function to split data in 10,000 track df's.\n",
    "df_slices = matrixSplit(af_tot_df,10000)\n",
    "\n",
    "#Seperate list of df's into individual df's\n",
    "slice_0 = df_slices[0]\n",
    "slice_1 = df_slices[1]\n",
    "slice_2 = df_slices[2]\n",
    "slice_3 = df_slices[3]\n",
    "slice_4 = df_slices[4]\n",
    "slice_5 = df_slices[5]\n",
    "slice_6 = df_slices[6]\n",
    "slice_7 = df_slices[7]\n",
    "slice_8 = pd.concat((df_slices[8],af_vv_df),axis=0)"
   ]
  },
  {
   "cell_type": "code",
   "execution_count": null,
   "metadata": {
    "colab": {
     "base_uri": "https://localhost:8080/"
    },
    "id": "uv_YgyHEuL4i",
    "outputId": "08917b2b-e9d2-4f13-8e73-d5b536ddfe28"
   },
   "outputs": [
    {
     "name": "stdout",
     "output_type": "stream",
     "text": [
      "time: 13.1 ms (started: 2021-03-23 02:03:28 +00:00)\n"
     ]
    }
   ],
   "source": [
    "#cos loop\n",
    "\n",
    "def top_n(df, num_of_results):\n",
    "  st_time()\n",
    "  ref = df\n",
    "  df_list=[]\n",
    "  for track in df.iloc[:,22:]:\n",
    "    df = scaler.fit_transform(df.iloc[:,22:]) #skips first 23 columns, which are metadata.\n",
    "    df = cosine_distances(df)\n",
    "    df = pd.DataFrame(df)\n",
    "    df = df[df['track']<1]\n",
    "    df = track_id.sort_values(by=['track'], ascending=True)\n",
    "    df = df[:,num_of_results]\n",
    "    #df = pd.DataFrame(df.values,columns=ref['track_id'],index=ref.index)\n",
    "    df_list.append(df)\n",
    "  return df_list"
   ]
  },
  {
   "cell_type": "code",
   "execution_count": null,
   "metadata": {
    "colab": {
     "base_uri": "https://localhost:8080/",
     "height": 362
    },
    "id": "vYvZm5NFrdRb",
    "outputId": "218c4c07-ba38-4b0c-9015-b55eb3731b94"
   },
   "outputs": [
    {
     "name": "stdout",
     "output_type": "stream",
     "text": [
      "Start time: 02:03:29\n"
     ]
    },
    {
     "ename": "ValueError",
     "evalue": "ignored",
     "output_type": "error",
     "traceback": [
      "\u001b[0;31m---------------------------------------------------------------------------\u001b[0m",
      "\u001b[0;31mValueError\u001b[0m                                Traceback (most recent call last)",
      "\u001b[0;32m<ipython-input-40-64321e992ed7>\u001b[0m in \u001b[0;36m<module>\u001b[0;34m()\u001b[0m\n\u001b[1;32m      1\u001b[0m \u001b[0;31m#Function test cell\u001b[0m\u001b[0;34m\u001b[0m\u001b[0;34m\u001b[0m\u001b[0;34m\u001b[0m\u001b[0m\n\u001b[0;32m----> 2\u001b[0;31m \u001b[0mtest\u001b[0m \u001b[0;34m=\u001b[0m \u001b[0mtop_n\u001b[0m\u001b[0;34m(\u001b[0m\u001b[0maf_vv_df\u001b[0m\u001b[0;34m,\u001b[0m\u001b[0;36m99\u001b[0m\u001b[0;34m)\u001b[0m\u001b[0;34m\u001b[0m\u001b[0;34m\u001b[0m\u001b[0m\n\u001b[0m",
      "\u001b[0;32m<ipython-input-39-5a7e5270ad41>\u001b[0m in \u001b[0;36mtop_n\u001b[0;34m(df, num_of_results)\u001b[0m\n\u001b[1;32m      6\u001b[0m   \u001b[0mdf_list\u001b[0m\u001b[0;34m=\u001b[0m\u001b[0;34m[\u001b[0m\u001b[0;34m]\u001b[0m\u001b[0;34m\u001b[0m\u001b[0;34m\u001b[0m\u001b[0m\n\u001b[1;32m      7\u001b[0m   \u001b[0;32mfor\u001b[0m \u001b[0mtrack\u001b[0m \u001b[0;32min\u001b[0m \u001b[0mdf\u001b[0m\u001b[0;34m.\u001b[0m\u001b[0miloc\u001b[0m\u001b[0;34m[\u001b[0m\u001b[0;34m:\u001b[0m\u001b[0;34m,\u001b[0m\u001b[0;36m22\u001b[0m\u001b[0;34m:\u001b[0m\u001b[0;34m]\u001b[0m\u001b[0;34m:\u001b[0m\u001b[0;34m\u001b[0m\u001b[0;34m\u001b[0m\u001b[0m\n\u001b[0;32m----> 8\u001b[0;31m     \u001b[0mdf\u001b[0m \u001b[0;34m=\u001b[0m \u001b[0mscaler\u001b[0m\u001b[0;34m.\u001b[0m\u001b[0mfit_transform\u001b[0m\u001b[0;34m(\u001b[0m\u001b[0mdf\u001b[0m\u001b[0;34m)\u001b[0m \u001b[0;31m#skips first 23 columns, which are metadata.\u001b[0m\u001b[0;34m\u001b[0m\u001b[0;34m\u001b[0m\u001b[0m\n\u001b[0m\u001b[1;32m      9\u001b[0m     \u001b[0mdf\u001b[0m \u001b[0;34m=\u001b[0m \u001b[0mcosine_distances\u001b[0m\u001b[0;34m(\u001b[0m\u001b[0mdf\u001b[0m\u001b[0;34m)\u001b[0m\u001b[0;34m\u001b[0m\u001b[0;34m\u001b[0m\u001b[0m\n\u001b[1;32m     10\u001b[0m     \u001b[0mdf\u001b[0m \u001b[0;34m=\u001b[0m \u001b[0mpd\u001b[0m\u001b[0;34m.\u001b[0m\u001b[0mDataFrame\u001b[0m\u001b[0;34m(\u001b[0m\u001b[0mdf\u001b[0m\u001b[0;34m)\u001b[0m\u001b[0;34m\u001b[0m\u001b[0;34m\u001b[0m\u001b[0m\n",
      "\u001b[0;32m/usr/local/lib/python3.7/dist-packages/sklearn/base.py\u001b[0m in \u001b[0;36mfit_transform\u001b[0;34m(self, X, y, **fit_params)\u001b[0m\n\u001b[1;32m    569\u001b[0m         \u001b[0;32mif\u001b[0m \u001b[0my\u001b[0m \u001b[0;32mis\u001b[0m \u001b[0;32mNone\u001b[0m\u001b[0;34m:\u001b[0m\u001b[0;34m\u001b[0m\u001b[0;34m\u001b[0m\u001b[0m\n\u001b[1;32m    570\u001b[0m             \u001b[0;31m# fit method of arity 1 (unsupervised transformation)\u001b[0m\u001b[0;34m\u001b[0m\u001b[0;34m\u001b[0m\u001b[0;34m\u001b[0m\u001b[0m\n\u001b[0;32m--> 571\u001b[0;31m             \u001b[0;32mreturn\u001b[0m \u001b[0mself\u001b[0m\u001b[0;34m.\u001b[0m\u001b[0mfit\u001b[0m\u001b[0;34m(\u001b[0m\u001b[0mX\u001b[0m\u001b[0;34m,\u001b[0m \u001b[0;34m**\u001b[0m\u001b[0mfit_params\u001b[0m\u001b[0;34m)\u001b[0m\u001b[0;34m.\u001b[0m\u001b[0mtransform\u001b[0m\u001b[0;34m(\u001b[0m\u001b[0mX\u001b[0m\u001b[0;34m)\u001b[0m\u001b[0;34m\u001b[0m\u001b[0;34m\u001b[0m\u001b[0m\n\u001b[0m\u001b[1;32m    572\u001b[0m         \u001b[0;32melse\u001b[0m\u001b[0;34m:\u001b[0m\u001b[0;34m\u001b[0m\u001b[0;34m\u001b[0m\u001b[0m\n\u001b[1;32m    573\u001b[0m             \u001b[0;31m# fit method of arity 2 (supervised transformation)\u001b[0m\u001b[0;34m\u001b[0m\u001b[0;34m\u001b[0m\u001b[0;34m\u001b[0m\u001b[0m\n",
      "\u001b[0;32m/usr/local/lib/python3.7/dist-packages/sklearn/preprocessing/_data.py\u001b[0m in \u001b[0;36mfit\u001b[0;34m(self, X, y)\u001b[0m\n\u001b[1;32m    667\u001b[0m         \u001b[0;31m# Reset internal state before fitting\u001b[0m\u001b[0;34m\u001b[0m\u001b[0;34m\u001b[0m\u001b[0;34m\u001b[0m\u001b[0m\n\u001b[1;32m    668\u001b[0m         \u001b[0mself\u001b[0m\u001b[0;34m.\u001b[0m\u001b[0m_reset\u001b[0m\u001b[0;34m(\u001b[0m\u001b[0;34m)\u001b[0m\u001b[0;34m\u001b[0m\u001b[0;34m\u001b[0m\u001b[0m\n\u001b[0;32m--> 669\u001b[0;31m         \u001b[0;32mreturn\u001b[0m \u001b[0mself\u001b[0m\u001b[0;34m.\u001b[0m\u001b[0mpartial_fit\u001b[0m\u001b[0;34m(\u001b[0m\u001b[0mX\u001b[0m\u001b[0;34m,\u001b[0m \u001b[0my\u001b[0m\u001b[0;34m)\u001b[0m\u001b[0;34m\u001b[0m\u001b[0;34m\u001b[0m\u001b[0m\n\u001b[0m\u001b[1;32m    670\u001b[0m \u001b[0;34m\u001b[0m\u001b[0m\n\u001b[1;32m    671\u001b[0m     \u001b[0;32mdef\u001b[0m \u001b[0mpartial_fit\u001b[0m\u001b[0;34m(\u001b[0m\u001b[0mself\u001b[0m\u001b[0;34m,\u001b[0m \u001b[0mX\u001b[0m\u001b[0;34m,\u001b[0m \u001b[0my\u001b[0m\u001b[0;34m=\u001b[0m\u001b[0;32mNone\u001b[0m\u001b[0;34m)\u001b[0m\u001b[0;34m:\u001b[0m\u001b[0;34m\u001b[0m\u001b[0;34m\u001b[0m\u001b[0m\n",
      "\u001b[0;32m/usr/local/lib/python3.7/dist-packages/sklearn/preprocessing/_data.py\u001b[0m in \u001b[0;36mpartial_fit\u001b[0;34m(self, X, y)\u001b[0m\n\u001b[1;32m    698\u001b[0m         X = check_array(X, accept_sparse=('csr', 'csc'),\n\u001b[1;32m    699\u001b[0m                         \u001b[0mestimator\u001b[0m\u001b[0;34m=\u001b[0m\u001b[0mself\u001b[0m\u001b[0;34m,\u001b[0m \u001b[0mdtype\u001b[0m\u001b[0;34m=\u001b[0m\u001b[0mFLOAT_DTYPES\u001b[0m\u001b[0;34m,\u001b[0m\u001b[0;34m\u001b[0m\u001b[0;34m\u001b[0m\u001b[0m\n\u001b[0;32m--> 700\u001b[0;31m                         force_all_finite='allow-nan')\n\u001b[0m\u001b[1;32m    701\u001b[0m \u001b[0;34m\u001b[0m\u001b[0m\n\u001b[1;32m    702\u001b[0m         \u001b[0;31m# Even in the case of `with_mean=False`, we update the mean anyway\u001b[0m\u001b[0;34m\u001b[0m\u001b[0;34m\u001b[0m\u001b[0;34m\u001b[0m\u001b[0m\n",
      "\u001b[0;32m/usr/local/lib/python3.7/dist-packages/sklearn/utils/validation.py\u001b[0m in \u001b[0;36mcheck_array\u001b[0;34m(array, accept_sparse, accept_large_sparse, dtype, order, copy, force_all_finite, ensure_2d, allow_nd, ensure_min_samples, ensure_min_features, warn_on_dtype, estimator)\u001b[0m\n\u001b[1;32m    529\u001b[0m                     \u001b[0marray\u001b[0m \u001b[0;34m=\u001b[0m \u001b[0marray\u001b[0m\u001b[0;34m.\u001b[0m\u001b[0mastype\u001b[0m\u001b[0;34m(\u001b[0m\u001b[0mdtype\u001b[0m\u001b[0;34m,\u001b[0m \u001b[0mcasting\u001b[0m\u001b[0;34m=\u001b[0m\u001b[0;34m\"unsafe\"\u001b[0m\u001b[0;34m,\u001b[0m \u001b[0mcopy\u001b[0m\u001b[0;34m=\u001b[0m\u001b[0;32mFalse\u001b[0m\u001b[0;34m)\u001b[0m\u001b[0;34m\u001b[0m\u001b[0;34m\u001b[0m\u001b[0m\n\u001b[1;32m    530\u001b[0m                 \u001b[0;32melse\u001b[0m\u001b[0;34m:\u001b[0m\u001b[0;34m\u001b[0m\u001b[0;34m\u001b[0m\u001b[0m\n\u001b[0;32m--> 531\u001b[0;31m                     \u001b[0marray\u001b[0m \u001b[0;34m=\u001b[0m \u001b[0mnp\u001b[0m\u001b[0;34m.\u001b[0m\u001b[0masarray\u001b[0m\u001b[0;34m(\u001b[0m\u001b[0marray\u001b[0m\u001b[0;34m,\u001b[0m \u001b[0morder\u001b[0m\u001b[0;34m=\u001b[0m\u001b[0morder\u001b[0m\u001b[0;34m,\u001b[0m \u001b[0mdtype\u001b[0m\u001b[0;34m=\u001b[0m\u001b[0mdtype\u001b[0m\u001b[0;34m)\u001b[0m\u001b[0;34m\u001b[0m\u001b[0;34m\u001b[0m\u001b[0m\n\u001b[0m\u001b[1;32m    532\u001b[0m             \u001b[0;32mexcept\u001b[0m \u001b[0mComplexWarning\u001b[0m\u001b[0;34m:\u001b[0m\u001b[0;34m\u001b[0m\u001b[0;34m\u001b[0m\u001b[0m\n\u001b[1;32m    533\u001b[0m                 raise ValueError(\"Complex data not supported\\n\"\n",
      "\u001b[0;32m/usr/local/lib/python3.7/dist-packages/numpy/core/_asarray.py\u001b[0m in \u001b[0;36masarray\u001b[0;34m(a, dtype, order)\u001b[0m\n\u001b[1;32m     81\u001b[0m \u001b[0;34m\u001b[0m\u001b[0m\n\u001b[1;32m     82\u001b[0m     \"\"\"\n\u001b[0;32m---> 83\u001b[0;31m     \u001b[0;32mreturn\u001b[0m \u001b[0marray\u001b[0m\u001b[0;34m(\u001b[0m\u001b[0ma\u001b[0m\u001b[0;34m,\u001b[0m \u001b[0mdtype\u001b[0m\u001b[0;34m,\u001b[0m \u001b[0mcopy\u001b[0m\u001b[0;34m=\u001b[0m\u001b[0;32mFalse\u001b[0m\u001b[0;34m,\u001b[0m \u001b[0morder\u001b[0m\u001b[0;34m=\u001b[0m\u001b[0morder\u001b[0m\u001b[0;34m)\u001b[0m\u001b[0;34m\u001b[0m\u001b[0;34m\u001b[0m\u001b[0m\n\u001b[0m\u001b[1;32m     84\u001b[0m \u001b[0;34m\u001b[0m\u001b[0m\n\u001b[1;32m     85\u001b[0m \u001b[0;34m\u001b[0m\u001b[0m\n",
      "\u001b[0;32m/usr/local/lib/python3.7/dist-packages/pandas/core/generic.py\u001b[0m in \u001b[0;36m__array__\u001b[0;34m(self, dtype)\u001b[0m\n\u001b[1;32m   1779\u001b[0m \u001b[0;34m\u001b[0m\u001b[0m\n\u001b[1;32m   1780\u001b[0m     \u001b[0;32mdef\u001b[0m \u001b[0m__array__\u001b[0m\u001b[0;34m(\u001b[0m\u001b[0mself\u001b[0m\u001b[0;34m,\u001b[0m \u001b[0mdtype\u001b[0m\u001b[0;34m=\u001b[0m\u001b[0;32mNone\u001b[0m\u001b[0;34m)\u001b[0m \u001b[0;34m->\u001b[0m \u001b[0mnp\u001b[0m\u001b[0;34m.\u001b[0m\u001b[0mndarray\u001b[0m\u001b[0;34m:\u001b[0m\u001b[0;34m\u001b[0m\u001b[0;34m\u001b[0m\u001b[0m\n\u001b[0;32m-> 1781\u001b[0;31m         \u001b[0;32mreturn\u001b[0m \u001b[0mnp\u001b[0m\u001b[0;34m.\u001b[0m\u001b[0masarray\u001b[0m\u001b[0;34m(\u001b[0m\u001b[0mself\u001b[0m\u001b[0;34m.\u001b[0m\u001b[0m_values\u001b[0m\u001b[0;34m,\u001b[0m \u001b[0mdtype\u001b[0m\u001b[0;34m=\u001b[0m\u001b[0mdtype\u001b[0m\u001b[0;34m)\u001b[0m\u001b[0;34m\u001b[0m\u001b[0;34m\u001b[0m\u001b[0m\n\u001b[0m\u001b[1;32m   1782\u001b[0m \u001b[0;34m\u001b[0m\u001b[0m\n\u001b[1;32m   1783\u001b[0m     \u001b[0;32mdef\u001b[0m \u001b[0m__array_wrap__\u001b[0m\u001b[0;34m(\u001b[0m\u001b[0mself\u001b[0m\u001b[0;34m,\u001b[0m \u001b[0mresult\u001b[0m\u001b[0;34m,\u001b[0m \u001b[0mcontext\u001b[0m\u001b[0;34m=\u001b[0m\u001b[0;32mNone\u001b[0m\u001b[0;34m)\u001b[0m\u001b[0;34m:\u001b[0m\u001b[0;34m\u001b[0m\u001b[0;34m\u001b[0m\u001b[0m\n",
      "\u001b[0;32m/usr/local/lib/python3.7/dist-packages/numpy/core/_asarray.py\u001b[0m in \u001b[0;36masarray\u001b[0;34m(a, dtype, order)\u001b[0m\n\u001b[1;32m     81\u001b[0m \u001b[0;34m\u001b[0m\u001b[0m\n\u001b[1;32m     82\u001b[0m     \"\"\"\n\u001b[0;32m---> 83\u001b[0;31m     \u001b[0;32mreturn\u001b[0m \u001b[0marray\u001b[0m\u001b[0;34m(\u001b[0m\u001b[0ma\u001b[0m\u001b[0;34m,\u001b[0m \u001b[0mdtype\u001b[0m\u001b[0;34m,\u001b[0m \u001b[0mcopy\u001b[0m\u001b[0;34m=\u001b[0m\u001b[0;32mFalse\u001b[0m\u001b[0;34m,\u001b[0m \u001b[0morder\u001b[0m\u001b[0;34m=\u001b[0m\u001b[0morder\u001b[0m\u001b[0;34m)\u001b[0m\u001b[0;34m\u001b[0m\u001b[0;34m\u001b[0m\u001b[0m\n\u001b[0m\u001b[1;32m     84\u001b[0m \u001b[0;34m\u001b[0m\u001b[0m\n\u001b[1;32m     85\u001b[0m \u001b[0;34m\u001b[0m\u001b[0m\n",
      "\u001b[0;31mValueError\u001b[0m: could not convert string to float: '57lYOdic1C2GVyTPZsJhlB'"
     ]
    },
    {
     "name": "stdout",
     "output_type": "stream",
     "text": [
      "time: 27.1 ms (started: 2021-03-23 02:03:29 +00:00)\n"
     ]
    }
   ],
   "source": [
    "#Function test cell\n",
    "test = top_n(af_vv_df,99)\n"
   ]
  },
  {
   "cell_type": "code",
   "execution_count": null,
   "metadata": {
    "colab": {
     "base_uri": "https://localhost:8080/"
    },
    "id": "pLUmXMNY30sm",
    "outputId": "2721838d-35b3-4426-9694-98e32a314d0e"
   },
   "outputs": [
    {
     "name": "stdout",
     "output_type": "stream",
     "text": [
      "time: 7.24 ms (started: 2021-03-23 02:59:43 +00:00)\n"
     ]
    }
   ],
   "source": [
    "#cos loop\n",
    "def top_n(df, num_of_results):\n",
    "  st_time()\n",
    "  df_fit_trans = scaler.fit_transform(df.iloc[:,22:])\n",
    "  ref = df\n",
    "  df_list=[]\n",
    "  for col in df:\n",
    "    df_cos = cosine_distances(row)\n",
    "    # df_cos = pd.DataFrame(df_cos)\n",
    "    # df_cos = df_cos[df_cos['track']<1]\n",
    "    # df_cos = COLJUMN.sort_values(by=['track'], ascending=True)\n",
    "    # df_cos = df_cos[:,num_of_results]\n",
    "    # #df = pd.DataFrame(df.values,columns=ref['track_id'],index=ref.index)\n",
    "    df_list.append(df_cos)\n",
    "  return df_list"
   ]
  },
  {
   "cell_type": "code",
   "execution_count": null,
   "metadata": {
    "colab": {
     "base_uri": "https://localhost:8080/",
     "height": 362
    },
    "id": "KCrf8Wm_5RmX",
    "outputId": "51aeda4a-40ce-4994-81e1-6932d066945d"
   },
   "outputs": [
    {
     "name": "stdout",
     "output_type": "stream",
     "text": [
      "Start time: 02:59:55\n"
     ]
    },
    {
     "ename": "ValueError",
     "evalue": "ignored",
     "output_type": "error",
     "traceback": [
      "\u001b[0;31m---------------------------------------------------------------------------\u001b[0m",
      "\u001b[0;31mValueError\u001b[0m                                Traceback (most recent call last)",
      "\u001b[0;32m<ipython-input-109-64321e992ed7>\u001b[0m in \u001b[0;36m<module>\u001b[0;34m()\u001b[0m\n\u001b[1;32m      1\u001b[0m \u001b[0;31m#Function test cell\u001b[0m\u001b[0;34m\u001b[0m\u001b[0;34m\u001b[0m\u001b[0;34m\u001b[0m\u001b[0m\n\u001b[0;32m----> 2\u001b[0;31m \u001b[0mtest\u001b[0m \u001b[0;34m=\u001b[0m \u001b[0mtop_n\u001b[0m\u001b[0;34m(\u001b[0m\u001b[0maf_vv_df\u001b[0m\u001b[0;34m,\u001b[0m\u001b[0;36m99\u001b[0m\u001b[0;34m)\u001b[0m\u001b[0;34m\u001b[0m\u001b[0;34m\u001b[0m\u001b[0m\n\u001b[0m",
      "\u001b[0;32m<ipython-input-108-0c69d41c8cc3>\u001b[0m in \u001b[0;36mtop_n\u001b[0;34m(df, num_of_results)\u001b[0m\n\u001b[1;32m      6\u001b[0m   \u001b[0mdf_list\u001b[0m\u001b[0;34m=\u001b[0m\u001b[0;34m[\u001b[0m\u001b[0;34m]\u001b[0m\u001b[0;34m\u001b[0m\u001b[0;34m\u001b[0m\u001b[0m\n\u001b[1;32m      7\u001b[0m   \u001b[0;32mfor\u001b[0m \u001b[0mrow\u001b[0m \u001b[0;32min\u001b[0m \u001b[0mdf\u001b[0m\u001b[0;34m:\u001b[0m\u001b[0;34m\u001b[0m\u001b[0;34m\u001b[0m\u001b[0m\n\u001b[0;32m----> 8\u001b[0;31m     \u001b[0mdf_cos\u001b[0m \u001b[0;34m=\u001b[0m \u001b[0mcosine_distances\u001b[0m\u001b[0;34m(\u001b[0m\u001b[0mrow\u001b[0m\u001b[0;34m)\u001b[0m\u001b[0;34m\u001b[0m\u001b[0;34m\u001b[0m\u001b[0m\n\u001b[0m\u001b[1;32m      9\u001b[0m     \u001b[0;31m# df_cos = pd.DataFrame(df_cos)\u001b[0m\u001b[0;34m\u001b[0m\u001b[0;34m\u001b[0m\u001b[0;34m\u001b[0m\u001b[0m\n\u001b[1;32m     10\u001b[0m     \u001b[0;31m# df_cos = df_cos[df_cos['track']<1]\u001b[0m\u001b[0;34m\u001b[0m\u001b[0;34m\u001b[0m\u001b[0;34m\u001b[0m\u001b[0m\n",
      "\u001b[0;32m/usr/local/lib/python3.7/dist-packages/sklearn/metrics/pairwise.py\u001b[0m in \u001b[0;36mcosine_distances\u001b[0;34m(X, Y)\u001b[0m\n\u001b[1;32m    819\u001b[0m     \"\"\"\n\u001b[1;32m    820\u001b[0m     \u001b[0;31m# 1.0 - cosine_similarity(X, Y) without copy\u001b[0m\u001b[0;34m\u001b[0m\u001b[0;34m\u001b[0m\u001b[0;34m\u001b[0m\u001b[0m\n\u001b[0;32m--> 821\u001b[0;31m     \u001b[0mS\u001b[0m \u001b[0;34m=\u001b[0m \u001b[0mcosine_similarity\u001b[0m\u001b[0;34m(\u001b[0m\u001b[0mX\u001b[0m\u001b[0;34m,\u001b[0m \u001b[0mY\u001b[0m\u001b[0;34m)\u001b[0m\u001b[0;34m\u001b[0m\u001b[0;34m\u001b[0m\u001b[0m\n\u001b[0m\u001b[1;32m    822\u001b[0m     \u001b[0mS\u001b[0m \u001b[0;34m*=\u001b[0m \u001b[0;34m-\u001b[0m\u001b[0;36m1\u001b[0m\u001b[0;34m\u001b[0m\u001b[0;34m\u001b[0m\u001b[0m\n\u001b[1;32m    823\u001b[0m     \u001b[0mS\u001b[0m \u001b[0;34m+=\u001b[0m \u001b[0;36m1\u001b[0m\u001b[0;34m\u001b[0m\u001b[0;34m\u001b[0m\u001b[0m\n",
      "\u001b[0;32m/usr/local/lib/python3.7/dist-packages/sklearn/metrics/pairwise.py\u001b[0m in \u001b[0;36mcosine_similarity\u001b[0;34m(X, Y, dense_output)\u001b[0m\n\u001b[1;32m   1165\u001b[0m     \u001b[0;31m# to avoid recursive import\u001b[0m\u001b[0;34m\u001b[0m\u001b[0;34m\u001b[0m\u001b[0;34m\u001b[0m\u001b[0m\n\u001b[1;32m   1166\u001b[0m \u001b[0;34m\u001b[0m\u001b[0m\n\u001b[0;32m-> 1167\u001b[0;31m     \u001b[0mX\u001b[0m\u001b[0;34m,\u001b[0m \u001b[0mY\u001b[0m \u001b[0;34m=\u001b[0m \u001b[0mcheck_pairwise_arrays\u001b[0m\u001b[0;34m(\u001b[0m\u001b[0mX\u001b[0m\u001b[0;34m,\u001b[0m \u001b[0mY\u001b[0m\u001b[0;34m)\u001b[0m\u001b[0;34m\u001b[0m\u001b[0;34m\u001b[0m\u001b[0m\n\u001b[0m\u001b[1;32m   1168\u001b[0m \u001b[0;34m\u001b[0m\u001b[0m\n\u001b[1;32m   1169\u001b[0m     \u001b[0mX_normalized\u001b[0m \u001b[0;34m=\u001b[0m \u001b[0mnormalize\u001b[0m\u001b[0;34m(\u001b[0m\u001b[0mX\u001b[0m\u001b[0;34m,\u001b[0m \u001b[0mcopy\u001b[0m\u001b[0;34m=\u001b[0m\u001b[0;32mTrue\u001b[0m\u001b[0;34m)\u001b[0m\u001b[0;34m\u001b[0m\u001b[0;34m\u001b[0m\u001b[0m\n",
      "\u001b[0;32m/usr/local/lib/python3.7/dist-packages/sklearn/metrics/pairwise.py\u001b[0m in \u001b[0;36mcheck_pairwise_arrays\u001b[0;34m(X, Y, precomputed, dtype, accept_sparse, force_all_finite, copy)\u001b[0m\n\u001b[1;32m    135\u001b[0m         X = Y = check_array(X, accept_sparse=accept_sparse, dtype=dtype,\n\u001b[1;32m    136\u001b[0m                             \u001b[0mcopy\u001b[0m\u001b[0;34m=\u001b[0m\u001b[0mcopy\u001b[0m\u001b[0;34m,\u001b[0m \u001b[0mforce_all_finite\u001b[0m\u001b[0;34m=\u001b[0m\u001b[0mforce_all_finite\u001b[0m\u001b[0;34m,\u001b[0m\u001b[0;34m\u001b[0m\u001b[0;34m\u001b[0m\u001b[0m\n\u001b[0;32m--> 137\u001b[0;31m                             estimator=estimator)\n\u001b[0m\u001b[1;32m    138\u001b[0m     \u001b[0;32melse\u001b[0m\u001b[0;34m:\u001b[0m\u001b[0;34m\u001b[0m\u001b[0;34m\u001b[0m\u001b[0m\n\u001b[1;32m    139\u001b[0m         X = check_array(X, accept_sparse=accept_sparse, dtype=dtype,\n",
      "\u001b[0;32m/usr/local/lib/python3.7/dist-packages/sklearn/utils/validation.py\u001b[0m in \u001b[0;36mcheck_array\u001b[0;34m(array, accept_sparse, accept_large_sparse, dtype, order, copy, force_all_finite, ensure_2d, allow_nd, ensure_min_samples, ensure_min_features, warn_on_dtype, estimator)\u001b[0m\n\u001b[1;32m    529\u001b[0m                     \u001b[0marray\u001b[0m \u001b[0;34m=\u001b[0m \u001b[0marray\u001b[0m\u001b[0;34m.\u001b[0m\u001b[0mastype\u001b[0m\u001b[0;34m(\u001b[0m\u001b[0mdtype\u001b[0m\u001b[0;34m,\u001b[0m \u001b[0mcasting\u001b[0m\u001b[0;34m=\u001b[0m\u001b[0;34m\"unsafe\"\u001b[0m\u001b[0;34m,\u001b[0m \u001b[0mcopy\u001b[0m\u001b[0;34m=\u001b[0m\u001b[0;32mFalse\u001b[0m\u001b[0;34m)\u001b[0m\u001b[0;34m\u001b[0m\u001b[0;34m\u001b[0m\u001b[0m\n\u001b[1;32m    530\u001b[0m                 \u001b[0;32melse\u001b[0m\u001b[0;34m:\u001b[0m\u001b[0;34m\u001b[0m\u001b[0;34m\u001b[0m\u001b[0m\n\u001b[0;32m--> 531\u001b[0;31m                     \u001b[0marray\u001b[0m \u001b[0;34m=\u001b[0m \u001b[0mnp\u001b[0m\u001b[0;34m.\u001b[0m\u001b[0masarray\u001b[0m\u001b[0;34m(\u001b[0m\u001b[0marray\u001b[0m\u001b[0;34m,\u001b[0m \u001b[0morder\u001b[0m\u001b[0;34m=\u001b[0m\u001b[0morder\u001b[0m\u001b[0;34m,\u001b[0m \u001b[0mdtype\u001b[0m\u001b[0;34m=\u001b[0m\u001b[0mdtype\u001b[0m\u001b[0;34m)\u001b[0m\u001b[0;34m\u001b[0m\u001b[0;34m\u001b[0m\u001b[0m\n\u001b[0m\u001b[1;32m    532\u001b[0m             \u001b[0;32mexcept\u001b[0m \u001b[0mComplexWarning\u001b[0m\u001b[0;34m:\u001b[0m\u001b[0;34m\u001b[0m\u001b[0;34m\u001b[0m\u001b[0m\n\u001b[1;32m    533\u001b[0m                 raise ValueError(\"Complex data not supported\\n\"\n",
      "\u001b[0;32m/usr/local/lib/python3.7/dist-packages/numpy/core/_asarray.py\u001b[0m in \u001b[0;36masarray\u001b[0;34m(a, dtype, order)\u001b[0m\n\u001b[1;32m     81\u001b[0m \u001b[0;34m\u001b[0m\u001b[0m\n\u001b[1;32m     82\u001b[0m     \"\"\"\n\u001b[0;32m---> 83\u001b[0;31m     \u001b[0;32mreturn\u001b[0m \u001b[0marray\u001b[0m\u001b[0;34m(\u001b[0m\u001b[0ma\u001b[0m\u001b[0;34m,\u001b[0m \u001b[0mdtype\u001b[0m\u001b[0;34m,\u001b[0m \u001b[0mcopy\u001b[0m\u001b[0;34m=\u001b[0m\u001b[0;32mFalse\u001b[0m\u001b[0;34m,\u001b[0m \u001b[0morder\u001b[0m\u001b[0;34m=\u001b[0m\u001b[0morder\u001b[0m\u001b[0;34m)\u001b[0m\u001b[0;34m\u001b[0m\u001b[0;34m\u001b[0m\u001b[0m\n\u001b[0m\u001b[1;32m     84\u001b[0m \u001b[0;34m\u001b[0m\u001b[0m\n\u001b[1;32m     85\u001b[0m \u001b[0;34m\u001b[0m\u001b[0m\n",
      "\u001b[0;31mValueError\u001b[0m: could not convert string to float: 'track_id'"
     ]
    },
    {
     "name": "stdout",
     "output_type": "stream",
     "text": [
      "time: 25.4 ms (started: 2021-03-23 02:59:55 +00:00)\n"
     ]
    }
   ],
   "source": [
    "#Function test cell\n",
    "test = top_n(af_vv_df,99)\n"
   ]
  },
  {
   "cell_type": "code",
   "execution_count": null,
   "metadata": {
    "colab": {
     "base_uri": "https://localhost:8080/"
    },
    "id": "dy6BM6fk5lnc",
    "outputId": "0e0e3368-2555-4cbb-cbf8-67aa1745246a"
   },
   "outputs": [
    {
     "name": "stdout",
     "output_type": "stream",
     "text": [
      "time: 6.57 ms (started: 2021-03-23 04:28:29 +00:00)\n"
     ]
    }
   ],
   "source": [
    "af_vv_df_fit_trans = scaler.fit_transform(af_vv_df.iloc[:,22:]) \n",
    "\n",
    "\n",
    "#af_vv_df_ft = scaler.fit_transform(af_vv_df.iloc[:,22:]) #skips first 23 columns, which are metadata."
   ]
  },
  {
   "cell_type": "code",
   "execution_count": null,
   "metadata": {
    "colab": {
     "base_uri": "https://localhost:8080/"
    },
    "id": "rHzg1vB-eQaR",
    "outputId": "a455a7e7-24e0-43b5-ef43-c24497a44484"
   },
   "outputs": [
    {
     "name": "stdout",
     "output_type": "stream",
     "text": [
      "Length of top_three is:  9\n"
     ]
    },
    {
     "data": {
      "text/plain": [
       "[[1.4448865541065419, 1.4035204175814977, 1.3255637852236417],\n",
       " [1.3219183378522485, 1.1922592692371945, 1.1832920561857956],\n",
       " [1.4548588967698255, 1.4499959056674077, 1.361859833825495],\n",
       " [1.4035204175814977, 1.3781742611122385, 1.250417376579381],\n",
       " [1.4499959056674077, 1.3781742611122385, 1.3338963861694952],\n",
       " [1.4448865541065419, 1.361859833825495, 1.3219183378522485],\n",
       " [1.3338963861694952, 1.2494238541620233, 1.2316599554936005],\n",
       " [1.4548588967698255, 1.1879660589199157, 1.0681290364057632],\n",
       " [1.2227949930237239, 1.1929290510622055, 1.1922592692371945]]"
      ]
     },
     "execution_count": 97,
     "metadata": {
      "tags": []
     },
     "output_type": "execute_result"
    },
    {
     "name": "stdout",
     "output_type": "stream",
     "text": [
      "time: 15 ms (started: 2021-03-23 05:37:58 +00:00)\n"
     ]
    }
   ],
   "source": [
    "#This is the part Anubhav helped me with.  I was having issues getting\n",
    "# sort in the right indent.  I was too far intended relative to the for loop\n",
    "# so that it was not doing anything.\n",
    "\n",
    "num_rows,num_cols = cos_df.shape\n",
    "top_three = []\n",
    "for row in range(0,num_rows):\n",
    "    temp_list = []\n",
    "    for col in range(0,num_cols):\n",
    "        if cos_df[row][col] < 1.5:\n",
    "            temp_list.append(cos_df[row][col])\n",
    "    temp_list.sort(reverse=True)\n",
    "    top_three.append(temp_list[0:3])\n",
    "print('Length of top_three is: ', len(top_three))\n",
    "top_three"
   ]
  }
 ],
 "metadata": {
  "colab": {
   "collapsed_sections": [],
   "name": "sr6_kmeans_sr6.ipynb",
   "provenance": []
  },
  "kernelspec": {
   "display_name": "Python 3",
   "language": "python",
   "name": "python3"
  },
  "language_info": {
   "codemirror_mode": {
    "name": "ipython",
    "version": 3
   },
   "file_extension": ".py",
   "mimetype": "text/x-python",
   "name": "python",
   "nbconvert_exporter": "python",
   "pygments_lexer": "ipython3",
   "version": "3.8.5"
  }
 },
 "nbformat": 4,
 "nbformat_minor": 4
}
