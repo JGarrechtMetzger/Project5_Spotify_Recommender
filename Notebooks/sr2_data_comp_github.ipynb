{
 "cells": [
  {
   "cell_type": "code",
   "execution_count": null,
   "metadata": {
    "colab": {
     "base_uri": "https://localhost:8080/"
    },
    "id": "thnsq_p77Nuh",
    "outputId": "8dbc1af0-ab23-4c02-a127-9ef6c264707a"
   },
   "outputs": [
    {
     "name": "stdout",
     "output_type": "stream",
     "text": [
      "time: 2.53 ms (started: 2021-03-20 20:01:46 +00:00)\n"
     ]
    }
   ],
   "source": [
    "import requests\n",
    "import spotipy\n",
    "import time\n",
    "import sys\n",
    "from spotipy.oauth2 import SpotifyClientCredentials\n",
    "from spotipy.oauth2 import SpotifyOAuth\n",
    "import pandas as pd\n",
    "from dataprep.eda import plot, plot_correlation, plot_missing\n",
    "from datetime import datetime"
   ]
  },
  {
   "cell_type": "code",
   "execution_count": null,
   "metadata": {
    "id": "FxP7xSVr7w6h"
   },
   "outputs": [],
   "source": [
    "!pip3 install spotipy"
   ]
  },
  {
   "cell_type": "code",
   "execution_count": null,
   "metadata": {
    "id": "mODIDY1p74gb"
   },
   "outputs": [],
   "source": [
    "!pip install dataprep"
   ]
  },
  {
   "cell_type": "code",
   "execution_count": null,
   "metadata": {
    "id": "ab59a0Y4-60t"
   },
   "outputs": [],
   "source": [
    "!pip install ipython-autotime"
   ]
  },
  {
   "cell_type": "code",
   "execution_count": null,
   "metadata": {
    "colab": {
     "base_uri": "https://localhost:8080/"
    },
    "id": "V552V-fp_Joh",
    "outputId": "271e8a32-2e0d-4b4d-bdd1-21cf264d64de"
   },
   "outputs": [
    {
     "name": "stdout",
     "output_type": "stream",
     "text": [
      "time: 100 µs (started: 2021-03-20 20:01:17 +00:00)\n"
     ]
    }
   ],
   "source": [
    "%load_ext autotime"
   ]
  },
  {
   "cell_type": "code",
   "execution_count": null,
   "metadata": {
    "colab": {
     "base_uri": "https://localhost:8080/"
    },
    "id": "f8h3EZxExgsn",
    "outputId": "9d05bb15-70df-46d7-9243-da99d766b8ba"
   },
   "outputs": [
    {
     "name": "stdout",
     "output_type": "stream",
     "text": [
      "time: 2.9 ms (started: 2021-03-20 20:01:20 +00:00)\n"
     ]
    }
   ],
   "source": [
    "#Put this function in front of the 'chunk' cells later (or any cells you\n",
    "# want to time while they are running).  You don't need to pass anything\n",
    "# into it.\n",
    "\n",
    "def st_time():\n",
    "  now=datetime.now()\n",
    "  st_time=now.strftime(\"%H:%M:%S\")\n",
    "  print('Start time:', st_time)\n",
    "  return"
   ]
  },
  {
   "cell_type": "markdown",
   "metadata": {
    "id": "yV6MalqmW182"
   },
   "source": [
    "# Get authorization from Spotify to start the data vaccuum"
   ]
  },
  {
   "cell_type": "markdown",
   "metadata": {
    "id": "QSzljxKiW2cH"
   },
   "source": [
    "**This is the method that is able to 'talk' to the Spotify API.**\n",
    "\n",
    "There are 4 required fields for a broad session.\n",
    "1) 'cliend_id' which is just the id number of your own account.  It can likly be found a few ways, but the way I did it was:\n",
    "* Open the spotify app\n",
    "* Go to the upper right corner\n",
    "* Select the profile icon\n",
    "* Select '...' under username\n",
    "* Select \"Share\"\n",
    "* Select \"Copy Spotify URI\"\n",
    "* Paste in a new cell, which yields: spotify:user:user_id\n",
    "* Select only the alphanumeric user_id.  \n",
    "\n",
    "[Note: The 'Copy Spotify URI' is also how you can grab other user_id for later]  \n",
    "\n",
    "Now we will go to the Spotify Developer page so you can see the 'client_secret'.\n",
    "\n",
    "2) 'client_secret'.  Go to https://developer.spotify.com/dashboard --> log in \n",
    "and select through whatever kind of use case you need.  I selected making an\n",
    "app.  Your selection doesn't really matter at this stage as you can use the\n",
    "code you are building here and start a new app that fits more precisely your\n",
    "use case.\n",
    "\n",
    "You are now here: https://developer.spotify.com/dashboard/applications\n",
    "*  Select your app.  \n",
    "* On the left side of the page you will see 'Client ID'.  Your personal ID (read: 'user_id') is a long alphanumeric string.\n",
    "* Click on 'SHOW CLIENT SECRET' to access your 'client_secret'\n",
    "\n",
    "3) 'redirect_uri'.  As best as I can tell, 'redirect_uri' is something along the lines of a browser page Spotify needs for you to have so they can use it as an address to ask authorization questions.  I read you can use basically any 'white listed' website (a normal website...like https://google.com) or a local host like \"http://localhost:8890/callback\", which is the format I chose.  Here, the number '8880' is the default one.  I just pick a higher number that likely won't be in use like 8901 or something.\n",
    "\n",
    "4) 'scope'.  This will vary depending on what you are trying to do.  For this project, I am sticking to 'read' only scopes.  But you need different scopes for authorization to do different things so look at the offical documentation, or better yet, someone elses expalanation of the documentation to understand what the scope of your own project is.\n"
   ]
  },
  {
   "cell_type": "markdown",
   "metadata": {
    "id": "bt5QyIvuWXQw"
   },
   "source": []
  },
  {
   "cell_type": "code",
   "execution_count": null,
   "metadata": {
    "colab": {
     "base_uri": "https://localhost:8080/"
    },
    "id": "8dXss0pn8EbX",
    "outputId": "5a34a08e-60a9-41a6-dc62-67c64fc96d8e"
   },
   "outputs": [
    {
     "name": "stdout",
     "output_type": "stream",
     "text": [
      "time: 3.02 ms (started: 2021-03-20 20:01:20 +00:00)\n"
     ]
    }
   ],
   "source": [
    "#This is the method that is able to 'talk' to the Spotify API.\n",
    "#There are 4 required fields for a broad session: 1) 'client_id'\n",
    "# 'client_secret', 'redirect_uri', 'scope'\n",
    "\n",
    "sp = spotipy.Spotify(auth_manager=SpotifyOAuth(client_id=\"REDACTED\",\n",
    "                                               client_secret=\"REDACTED\",\n",
    "                                               redirect_uri=\"https://vasovagalband.com/\",\n",
    "                                               scope=\"user-library-read\"))"
   ]
  },
  {
   "cell_type": "code",
   "execution_count": null,
   "metadata": {
    "colab": {
     "base_uri": "https://localhost:8080/"
    },
    "id": "oge-QqUr-Zp0",
    "outputId": "6ac9e6a7-c695-44b4-86d1-fbeb4cf8c706"
   },
   "outputs": [
    {
     "name": "stderr",
     "output_type": "stream",
     "text": [
      "User authentication requires interaction with your web browser. Once you enter your credentials and give authorization, you will be redirected to a url.  Paste that url you were directed to to complete the authorization.\n",
      "Opened https://accounts.spotify.com/authorize?client_id=39ded50cd91a464492c532e4785b1d05&response_type=code&redirect_uri=https%3A%2F%2Fvasovagalband.com%2F&scope=user-library-read in your browser\n"
     ]
    },
    {
     "name": "stdout",
     "output_type": "stream",
     "text": [
      "Enter the URL you were redirected to: https://vasovagalband.com/?code=AQDdZ1cgDhr-tlv0K7N06R9xNPmWd1KX4B12sx22j4dzitt8xDzp5BusL8YshQadVyLZObBPB1Rj2U5IB9oUhTsHhCdt9SW6MDwIpAvFOR59-8pZouqAWNHoUHTsADISeUE6ZG2LYxAtipSWvVhqVfkuYkZDqcnvDDkNt620M8Z5jplmLToTeR3ZFPuPGkAqkA\n",
      "time: 12.3 s (started: 2021-03-20 20:01:20 +00:00)\n"
     ]
    }
   ],
   "source": [
    "spotify_pl = sp.user_playlists('spotify')"
   ]
  },
  {
   "cell_type": "markdown",
   "metadata": {
    "id": "JisdToL3XDa5"
   },
   "source": [
    "If you get 200-500 errors check the Spotify documentation to understand the cause of error.  Otherwise, it shoud take <1s to authentify."
   ]
  },
  {
   "cell_type": "markdown",
   "metadata": {
    "id": "1It4wnAHXIFM"
   },
   "source": [
    "# Collect Playlists from User"
   ]
  },
  {
   "cell_type": "markdown",
   "metadata": {
    "id": "luAWkdgUYuBm"
   },
   "source": [
    "We need playlists to build a song library and one of the best ways to do that is to find users with a lot of playlists.  I wrote a function that will take a user_id and give you a list of playlists.\n",
    "\n",
    "Lets start with the official Spotify account since it will likely have a lot of playlists without broken songs.  And it will have songs that beta tests will at least recognize to help with the content filtering."
   ]
  },
  {
   "cell_type": "markdown",
   "metadata": {
    "id": "1b8vFW4fY2s5"
   },
   "source": [
    "### The official spotify user account playlists\n",
    "\n",
    "spotify_pl = sp.user_playlists('spotify')\n",
    "\n",
    "[NOTE: Normally user_id is alphanumeric nonsense but the official Spotify account has its name as its ID]"
   ]
  },
  {
   "cell_type": "code",
   "execution_count": null,
   "metadata": {
    "colab": {
     "base_uri": "https://localhost:8080/"
    },
    "id": "RfehcFu_Atwk",
    "outputId": "f2dfeee4-e645-4c8f-88eb-a67e17c19378"
   },
   "outputs": [
    {
     "name": "stdout",
     "output_type": "stream",
     "text": [
      "time: 6.56 ms (started: 2021-03-20 20:01:59 +00:00)\n"
     ]
    }
   ],
   "source": [
    "#Function I wrote to get playlist IDs from a single user.\n",
    "# The input is a bunch of JSON dict-list nightmare nonsense.\n",
    "# The output is a list of playlists for input into 'getTrackIDs'\n",
    "# function.\n",
    "\n",
    "#Normally the playlist output length is capped at 50.  So the\n",
    "# function below is written to paginate and grab all of them.\n",
    "# The 'while' loop is how paging is accomplished.\n",
    "\n",
    "#NOTE: to call the next method (\"sp\") it takes the dictionary object \"results\"\n",
    "\n",
    "def pl_grab(user_id):\n",
    "    results = sp.user_playlists(user_id)    #Request function for url.  The 'results' are the data taken from the request method 'sp'.\n",
    "    pl_id = []                              #This is the empty list we are going to populate with just the playlist ids.\n",
    "    pl = results['items']                   #take results from the sp request and add only 'items' to variable pl. There are 14 keys/divisions(keys after you make it into a dataframe) of 'items'.\n",
    "    while results['next']:                  #this while loop will create a list of dictionaries. \"while results['next']\" is a boolean so that if the parameter 'next' is populated (true) then it will continue running the while loop.\n",
    "        results = sp.next(results)          #this is like the api request method the second line of the function except it runs the url from the 'next' key/divsion/category? There was only 1 'next' populated for all the first 50 results originally.  So when you got to a playlist that also had the parameter 'next' populated it meant it was the last one on the page and that there was at least one more page to go to.\n",
    "        pl.extend(results['items'])         #extend is like append.  Here we are adding the 'items' data that we will pull 'id' from to the previous selected results 'pl'.  Note, this just adds to the original pl and not overwrite. This is how we build them all up.\n",
    "    for playlist_dict in pl:                #NOTE: type(pl) = list, type(playlist_dict) = dict.  This means that the var 'pl' is a list and the elements are in the form of a dictionary so we need to use the dict syntax (square brackets and quotes) in the foreloop to proerly index the 'id's.  This was also a hang up because this is a results of the JSON-to-dataframe 'parsing'.  But hey, it works and actually isn't that messy. loops through dictionaries and only grabs ids. This is where i got stuck earlier and had the for looop nested in the while loop.  It needed to be out so that it only ran after the dataframe was finished being created from all of the possible playlists on all pages.\n",
    "        pl_id.append(playlist_dict['id'])   #NOTE: as in the line above, just see that playlist_dict is the iterate and is a type=dict within the greater type=list. this adds the playlist 'id's to the list of ids ('pl_id')\n",
    "    return pl_id                            #the pl_id format is just the ID's and not all the JSON nonsense"
   ]
  },
  {
   "cell_type": "code",
   "execution_count": null,
   "metadata": {
    "colab": {
     "base_uri": "https://localhost:8080/"
    },
    "id": "DlJl13fBJ1PL",
    "outputId": "99090676-69e2-44e3-fbac-04049bbf0a16"
   },
   "outputs": [
    {
     "name": "stdout",
     "output_type": "stream",
     "text": [
      "time: 10.1 s (started: 2021-03-20 20:02:13 +00:00)\n"
     ]
    }
   ],
   "source": [
    "#Grab the playlists from user 'spotify'\n",
    "\n",
    "pl_spotify = pl_grab('spotify')"
   ]
  },
  {
   "cell_type": "code",
   "execution_count": null,
   "metadata": {
    "colab": {
     "base_uri": "https://localhost:8080/"
    },
    "id": "65Zq6OnaJ2aT",
    "outputId": "62d3cdf4-fce2-42ab-9b30-5319ceb8c70d"
   },
   "outputs": [
    {
     "name": "stdout",
     "output_type": "stream",
     "text": [
      "There are 1398 playlists.\n",
      "time: 1.58 ms (started: 2021-03-20 20:02:23 +00:00)\n"
     ]
    }
   ],
   "source": [
    "#Now let's see how many playlists there are.\n",
    "\n",
    "print(\"There are\", len(pl_spotify), \"playlists.\")"
   ]
  },
  {
   "cell_type": "markdown",
   "metadata": {
    "id": "NX2INOgFZFAC"
   },
   "source": [
    "# Collect Tracks from Playlists\n",
    "\n",
    "We now have a *list of playlists*.  We want to get a list of tracks.  First, we will end up with a *list of a list of tracks*.\n",
    "\n",
    "This is the same general process as above for taking playlists from a user, but instead we extract 'track_id' from playlists."
   ]
  },
  {
   "cell_type": "code",
   "execution_count": null,
   "metadata": {
    "colab": {
     "base_uri": "https://localhost:8080/"
    },
    "id": "xo3jdFGBJ8dG",
    "outputId": "2ba2d7a9-3862-49f3-e23f-2cb91b3f0e90"
   },
   "outputs": [
    {
     "name": "stdout",
     "output_type": "stream",
     "text": [
      "time: 7.6 ms (started: 2021-03-20 20:02:03 +00:00)\n"
     ]
    }
   ],
   "source": [
    "#returns a list of specific track IDs from a spotify playlist and creator userid\n",
    "\n",
    "def tr_grab(user, playlist_id):\n",
    "    track_ids = []\n",
    "    results = sp.user_playlist_tracks(user, playlist_id) #NOTE: type(playlist) = dict but it's actually a dict with nested lists and dicts.  the JSON nonsense pile.\n",
    "    playlists = results['items']                         #This is the JSON nonsense that carries all the 'keys' and such for ALL the playlists,  you had to do differnt JSON navigating to get to the right part. The key 'items' is within results and type(results) = dict.  The key 'track' is within items and type(items) = dict. The division 'id' is within 'track' and type(track) = list.\n",
    "    while results['next']:                               #this 'while' loop is the same as the 'grab_pl' function in that it is a boolean.  We had to navigate down to where 'next' was populated with a url (meaning there are more pages of songs to go to).\n",
    "        results = sp.next(results)                       #This will call the request method 'sp' so you can get another page of results.  The 'next' is where the url is.\n",
    "        playlists.extend(results['items'])               #extend is like append but slightly different.\n",
    "    for item in playlists:                               #loop through and find just the 'id' and add to list 'track_ids'.\n",
    "        track = item['track']\n",
    "        track_ids.append(track['id'])\n",
    "    return track_ids\n"
   ]
  },
  {
   "cell_type": "code",
   "execution_count": null,
   "metadata": {
    "colab": {
     "base_uri": "https://localhost:8080/"
    },
    "id": "wcYL_BsJV_up",
    "outputId": "587381af-6de8-4b03-c3e7-7b0bf41a7b51"
   },
   "outputs": [
    {
     "name": "stdout",
     "output_type": "stream",
     "text": [
      "time: 4.83 ms (started: 2021-03-20 20:02:25 +00:00)\n"
     ]
    }
   ],
   "source": [
    "#This function will call the 'tr_grab' function as part of a try-except nested\n",
    "# in a for loop. This is necessary function skips broken playlists, which will\n",
    "# break the tr_grab function.\n",
    "\n",
    "##Inputs: 'user_id' (same one you've been using), 'pl_list' which is the list\n",
    "## of playlists.\n",
    "\n",
    "##Output: 'pl_tr_list', which is a list where elements = tracks of a single\n",
    "## playlist.\n",
    "\n",
    "def tr_from_pl(user_id,pl_list):\n",
    "    pl_tr_list=[]\n",
    "    for playlist in pl_list:\n",
    "        try:    #gave back NoneType without the try-except\n",
    "            tr_id = tr_grab(user_id,playlist)\n",
    "            pl_tr_list.append(tr_id)\n",
    "        except:\n",
    "            pass\n",
    "    return pl_tr_list"
   ]
  },
  {
   "cell_type": "code",
   "execution_count": null,
   "metadata": {
    "colab": {
     "base_uri": "https://localhost:8080/"
    },
    "id": "a-i25wl_RW8T",
    "outputId": "4861836a-f735-4be7-c8ba-f6ebc7a3d5d1"
   },
   "outputs": [
    {
     "name": "stdout",
     "output_type": "stream",
     "text": [
      "time: 2min 52s (started: 2021-03-20 20:02:25 +00:00)\n"
     ]
    }
   ],
   "source": [
    "##This cell calls the 'tr_from_pl' function, which loops through the 'tr_grab'\n",
    "# function.\n",
    "\n",
    "#Note: Make sure to assign the function call to a varible before running.\n",
    "\n",
    "#Execute time was 6m5.09s for 102,919 songs.\n",
    "\n",
    "tot_track_list = tr_from_pl('37i9dQZF1DXcBWIGoYBM5M',pl_spotify)"
   ]
  },
  {
   "cell_type": "code",
   "execution_count": null,
   "metadata": {
    "colab": {
     "base_uri": "https://localhost:8080/"
    },
    "id": "g1Ak41ZkV-Dv",
    "outputId": "274d8960-0421-42ba-9dba-93c092a191de"
   },
   "outputs": [
    {
     "name": "stdout",
     "output_type": "stream",
     "text": [
      "The number of track lists is 1392\n",
      "The number of broken playlists is 6\n",
      "The percentage of working playlists is 99.57081545064378 %\n",
      "time: 2.74 ms (started: 2021-03-20 20:07:20 +00:00)\n"
     ]
    }
   ],
   "source": [
    "#This shows the number of lists of tracks.  It is equivalent to the number\n",
    "# of playlists that satisfied the 'try' statement in 'tr_from_pl'\n",
    "\n",
    "print(\"The number of track lists is\",len(tot_track_list))\n",
    "print(\"The number of broken playlists is\", len(pl_spotify)-len(tot_track_list))\n",
    "print(\"The percentage of working playlists is\", (len(tot_track_list)/len(pl_spotify))*100,\"%\")"
   ]
  },
  {
   "cell_type": "markdown",
   "metadata": {
    "id": "vYNpHzztWpq5"
   },
   "source": [
    "## Flatten the List-of-list-of-tracks"
   ]
  },
  {
   "cell_type": "code",
   "execution_count": null,
   "metadata": {
    "colab": {
     "base_uri": "https://localhost:8080/"
    },
    "id": "ZmPHro7pWsGX",
    "outputId": "8d25533d-84ab-423e-ca06-68f01fd35561"
   },
   "outputs": [
    {
     "name": "stdout",
     "output_type": "stream",
     "text": [
      "time: 13.3 ms (started: 2021-03-20 20:07:22 +00:00)\n"
     ]
    }
   ],
   "source": [
    "#This list comprehension will 'flatten' the output list-of-lists-of-tracks\n",
    "# from tr_from_pl into a singular list of tracks.  In other words, it makes\n",
    "# one big list from a list of lists.\n",
    "\n",
    "tr_entry_tot = [item for sublist in tot_track_list for item in sublist]"
   ]
  },
  {
   "cell_type": "code",
   "execution_count": null,
   "metadata": {
    "colab": {
     "base_uri": "https://localhost:8080/"
    },
    "id": "2W0Qh66tXlDl",
    "outputId": "6b23e5fe-71a7-4b4d-a2fa-43c882bc43fc"
   },
   "outputs": [
    {
     "name": "stdout",
     "output_type": "stream",
     "text": [
      "The number of track entires from 'user_id' is 103323\n",
      "time: 1.23 ms (started: 2021-03-20 20:07:23 +00:00)\n"
     ]
    }
   ],
   "source": [
    "#This shows the number of track entries tracks.\n",
    "\n",
    "print(\"The number of track entires from 'user_id' is\", len(tr_entry_tot))"
   ]
  },
  {
   "cell_type": "markdown",
   "metadata": {
    "id": "oom_qog3XoMJ"
   },
   "source": [
    "## Get rid of duplicates"
   ]
  },
  {
   "cell_type": "code",
   "execution_count": null,
   "metadata": {
    "colab": {
     "base_uri": "https://localhost:8080/"
    },
    "id": "nCrY-YEzXowx",
    "outputId": "d5deda6b-f8b3-4785-cd4c-5bd1f07c1232"
   },
   "outputs": [
    {
     "name": "stdout",
     "output_type": "stream",
     "text": [
      "The number of track entries from 'user_id' is 103323\n",
      "The number of unique tracks is 82106\n",
      "The percentage of unique tracks relative to track entries is 79.46536589142785 %\n",
      "time: 35.8 ms (started: 2021-03-20 20:07:24 +00:00)\n"
     ]
    }
   ],
   "source": [
    "#Get rid of duplicates tracks that appear on more than 1 playlist.\n",
    "\n",
    "tr_unique_total = list(set(tr_entry_tot))\n",
    "print(\"The number of track entries from 'user_id' is\", len(tr_entry_tot))\n",
    "print(\"The number of unique tracks is\",len(tr_unique_total))\n",
    "print(\"The percentage of unique tracks relative to track entries is\", (len(tr_unique_total)/len(tr_entry_tot))*100,\"%\")"
   ]
  },
  {
   "cell_type": "code",
   "execution_count": null,
   "metadata": {
    "id": "r5BOMaV4XqF3"
   },
   "outputs": [],
   "source": [
    "#Test the list to make sure the output is just a list of track_id's.\n",
    "\n",
    "tr_unique_total"
   ]
  },
  {
   "cell_type": "markdown",
   "metadata": {
    "id": "ucuoakVxXtzi"
   },
   "source": [
    "# Get track audio features"
   ]
  },
  {
   "cell_type": "code",
   "execution_count": null,
   "metadata": {
    "colab": {
     "base_uri": "https://localhost:8080/"
    },
    "id": "_QkiB9r-XuQK",
    "outputId": "c828e16f-f05d-4fae-a141-690618fe7131"
   },
   "outputs": [
    {
     "name": "stdout",
     "output_type": "stream",
     "text": [
      "time: 58.6 ms (started: 2021-03-20 20:07:26 +00:00)\n"
     ]
    }
   ],
   "source": [
    "#This function will grab all of the track data.\n",
    "#This includes meta data for the album and artists. Some of the metadata\n",
    "# will be important later on.  Specifically, the external URLs for track,\n",
    "# album, artist, preview, and album art.  The 'href' features may not be\n",
    "# super important, but I wanted to grab all the available data I could at\n",
    "# once and filter later since it shouldn't really affect exucution time.\n",
    "\n",
    "\n",
    "def tr_af(track_id):\n",
    "    #returns a list of desired track audio features from track ID\n",
    "    \n",
    "    track_info = sp.track(track_id)\n",
    "    features_info = sp.audio_features(track_id)\n",
    "\n",
    "#track metadata\n",
    "    track_id = track_info['id'] #redundant, but easier to keep track of this way.\n",
    "    track_name = track_info['name']\n",
    "    track_length = track_info['duration_ms']\n",
    "    track_preview_url = track_info['preview_url']\n",
    "    track_number = track_info['track_number']\n",
    "    track_href = track_info['href']\n",
    "    track_external_urls = track_info['external_urls']['spotify']\n",
    "    track_external_id_isrc = track_info['external_ids']['isrc']\n",
    "\n",
    "    album_id = track_info['album']['id']\n",
    "    album_name = track_info['album']['name']\n",
    "    album_href = track_info['album']['href']\n",
    "    album_ext_url = track_info['album']['external_urls']['spotify']\n",
    "    album_release_date = track_info['album']['release_date']\n",
    "    album_release_date_precision = track_info['album']['release_date_precision']\n",
    "    album_total_tracks = track_info['album']['total_tracks']\n",
    "    album_type = track_info['album']['type']\n",
    "    album_image_large = track_info['album']['images'][0]['url']\n",
    "    album_image_medium = track_info['album']['images'][1]['url']\n",
    "    album_image_small = track_info['album']['images'][2]['url']\n",
    "    \n",
    "    artist_id = track_info['album']['artists'][0]['id']\n",
    "    artist_name = track_info['album']['artists'][0]['name']\n",
    "    artist_href = track_info['album']['artists'][0]['href']\n",
    "    artists_ext_url = track_info['album']['artists'][0]['external_urls']['spotify']\n",
    "    \n",
    "#Spotify proprietary audio features\n",
    "    danceability = features_info[0]['danceability']\n",
    "    energy = features_info[0]['energy']\n",
    "    key = features_info[0]['key']\n",
    "    loudness = features_info[0]['loudness']\n",
    "    mode = features_info[0]['mode']\n",
    "    speechiness = features_info[0]['speechiness']\n",
    "    acousticness = features_info[0]['acousticness']\n",
    "    instrumentalness = features_info[0]['instrumentalness']\n",
    "    liveness = features_info[0]['liveness']\n",
    "    popularity = track_info['popularity']\n",
    "    valence = features_info[0]['valence']\n",
    "    tempo = features_info[0]['tempo']\n",
    "    time_signature = features_info[0]['time_signature']\n",
    "\n",
    "#Note that 'track_data' is sort of a loose term as the info below\n",
    "# will include album and artist info as well.\n",
    "    track_data = [track_id, track_name, album_id, album_name,\n",
    "                  artist_id, artist_name, track_preview_url,\n",
    "                  track_number, track_href, track_external_urls,\n",
    "                  track_external_id_isrc, album_href, album_ext_url,\n",
    "                  album_release_date, album_release_date_precision,\n",
    "                  album_total_tracks, album_type, album_image_large,\n",
    "                  album_image_medium, album_image_small, artist_href,\n",
    "                  artists_ext_url, acousticness, danceability, energy,\n",
    "                  instrumentalness, key, liveness, loudness, mode,\n",
    "                  popularity, speechiness, tempo, time_signature,\n",
    "                  track_length, valence]\n",
    "    \n",
    "    return track_data"
   ]
  },
  {
   "cell_type": "code",
   "execution_count": null,
   "metadata": {
    "id": "qVEkc7fBXvs0"
   },
   "outputs": [],
   "source": [
    "#Function test area\n",
    "\n",
    "tr_af_test = tr_af('09u4feGdXwYsvH7hWObLPw')\n",
    "tr_af_test"
   ]
  },
  {
   "cell_type": "code",
   "execution_count": null,
   "metadata": {
    "id": "nvpoxK4lAZnh"
   },
   "outputs": [],
   "source": [
    "#JSON parsing test area\n",
    "\n",
    "yeet = sp.track('6CVU1Ckw8SG6sSs5sqGta6')\n",
    "artist_id = track_info['album']['artists'][0]['external_urls']['spotify']\n",
    "artist_id"
   ]
  },
  {
   "cell_type": "markdown",
   "metadata": {
    "id": "eVgQI6a8HO-A"
   },
   "source": [
    "## Two acquistition approaches"
   ]
  },
  {
   "cell_type": "markdown",
   "metadata": {
    "id": "TaIsw0ozHO29"
   },
   "source": [
    "### 1) All tracks in a single function call"
   ]
  },
  {
   "cell_type": "markdown",
   "metadata": {
    "id": "dvp4UNDKYOqH"
   },
   "source": []
  },
  {
   "cell_type": "code",
   "execution_count": null,
   "metadata": {
    "colab": {
     "base_uri": "https://localhost:8080/"
    },
    "id": "MdrwJvpMHQYx",
    "outputId": "c78e320c-e9a2-4836-e423-1987f669cbdb"
   },
   "outputs": [
    {
     "name": "stdout",
     "output_type": "stream",
     "text": [
      "time: 11.1 ms (started: 2021-03-20 20:07:30 +00:00)\n"
     ]
    }
   ],
   "source": [
    "#get the df with all the content stuff from Spotify\n",
    "#got 33s for sleep=0.1 and 20s for no sleep\n",
    "#'af_df' = 'audio features dataframe'\n",
    "\n",
    "def af_df(track_ids):\n",
    "    #returns pandas dataframe of track features from a list of track IDs\n",
    "    track_data_list = []\n",
    "    for i in range(len(track_ids)):\n",
    "        time.sleep(.1)\n",
    "        try:\n",
    "            track_data = tr_af(track_ids[i])\n",
    "            track_data_list.append(track_data)\n",
    "        except:\n",
    "            pass\n",
    "\n",
    "        df =  pd.DataFrame(track_data_list,\n",
    "                           columns = ['track_id', 'track_name', 'album_id', 'album_name',\n",
    "                                      'artist_id', 'artist_name', 'track_preview_url',\n",
    "                                      'track_number', 'track_href', 'track_external_urls',\n",
    "                                      'track_external_id_isrc', 'album_href', 'album_ext_url',\n",
    "                                      'album_release_date', 'album_release_date_precision',\n",
    "                                      'album_total_tracks', 'album_type', 'album_image_large',\n",
    "                                      'album_image_medium', 'album_image_small', 'artist_href',\n",
    "                                      'artists_ext_url', 'acousticness', 'danceability', 'energy',\n",
    "                                      'instrumentalness', 'key', 'liveness', 'loudness', 'mode',\n",
    "                                      'popularity', 'speechiness', 'tempo', 'time_signature',\n",
    "                                      'track_length', 'valence'])\n",
    "    return df"
   ]
  },
  {
   "cell_type": "markdown",
   "metadata": {
    "id": "WFap3aZfYYbA"
   },
   "source": [
    "## Single Block"
   ]
  },
  {
   "cell_type": "code",
   "execution_count": null,
   "metadata": {
    "id": "tJXinslcYUKJ"
   },
   "outputs": [],
   "source": [
    "total_df = af_df(tr_unique_total)\n",
    "total_df"
   ]
  },
  {
   "cell_type": "code",
   "execution_count": null,
   "metadata": {
    "id": "HEmKar42abWg"
   },
   "outputs": [],
   "source": [
    "total_df"
   ]
  },
  {
   "cell_type": "markdown",
   "metadata": {
    "id": "oG_he6jtFp46"
   },
   "source": [
    "### 2) Tracks evenly split for 'chunked' audio feature aquisition"
   ]
  },
  {
   "cell_type": "markdown",
   "metadata": {
    "id": "DoYlHZ3yFpuJ"
   },
   "source": [
    "Try the code out on smaller chunks...5-100.\n",
    "\n",
    "getTrackFeatures will return list of charecteristics.\n",
    "- write function that takes getTrackFeatures, loops throughs through the items, and creates a dataframe.\n",
    "- do forlooop for song in 100k songs\n",
    "    - append\n",
    "    - turn list into dataframe\n",
    "    - return dataframe\n",
    "ASSIGN THE RESULTS TO A VARIABLE"
   ]
  },
  {
   "cell_type": "code",
   "execution_count": null,
   "metadata": {
    "colab": {
     "base_uri": "https://localhost:8080/"
    },
    "id": "u7Tjb_4mFu_v",
    "outputId": "f34bc132-1ba5-4683-e9b9-578ee2beab41"
   },
   "outputs": [
    {
     "name": "stdout",
     "output_type": "stream",
     "text": [
      "time: 7.82 ms (started: 2021-03-20 20:08:38 +00:00)\n"
     ]
    }
   ],
   "source": [
    "#Chunks for feature extraction\n",
    "\n",
    "tr_unique_total\n",
    "ch_test = tr_unique_total[0:100]\n",
    "ch_1 = tr_unique_total[0:9999]\n",
    "ch_2 = tr_unique_total[10000:19999]\n",
    "ch_3 = tr_unique_total[19999:29999]\n",
    "ch_4 = tr_unique_total[30000:39999]\n",
    "ch_5 = tr_unique_total[40000:49999]\n",
    "ch_6 = tr_unique_total[50000:59999]\n",
    "ch_7 = tr_unique_total[60000:69999]\n",
    "ch_8 = tr_unique_total[70000:82189]"
   ]
  },
  {
   "cell_type": "markdown",
   "metadata": {
    "id": "BHCVbNwmG0-T"
   },
   "source": [
    "# Chunk Test"
   ]
  },
  {
   "cell_type": "code",
   "execution_count": null,
   "metadata": {
    "id": "kpy8a3LAG6OZ"
   },
   "outputs": [],
   "source": [
    "#Chunk Test.  Estimated execute time: a few minutes\n",
    "\n",
    "ch_test_df = af_df(ch_test)\n",
    "ch_test_df"
   ]
  },
  {
   "cell_type": "code",
   "execution_count": null,
   "metadata": {
    "id": "ZPnMZVYMG6B5"
   },
   "outputs": [],
   "source": [
    "ch_test"
   ]
  },
  {
   "cell_type": "markdown",
   "metadata": {
    "id": "kRMBqgwUF4vt"
   },
   "source": [
    "#### Success rate function"
   ]
  },
  {
   "cell_type": "markdown",
   "metadata": {
    "id": "DdVWv3IEF4qk"
   },
   "source": []
  },
  {
   "cell_type": "code",
   "execution_count": null,
   "metadata": {
    "colab": {
     "base_uri": "https://localhost:8080/"
    },
    "id": "kLDrrP6lF69N",
    "outputId": "de548c28-6548-4fcb-9b05-da3e7c1eef55"
   },
   "outputs": [
    {
     "name": "stdout",
     "output_type": "stream",
     "text": [
      "time: 2.41 ms (started: 2021-03-20 20:53:32 +00:00)\n"
     ]
    }
   ],
   "source": [
    "#Function to show success rate of audio feature extraction.\n",
    "# This is because some songs will not be able to be located and\n",
    "# cause a 404 error.  And for reasons unknown to me, other songs\n",
    "# will have a finite number of retries that will sometimes fail.\n",
    "\n",
    "def chunk_df_eval(chunk,chunk_df):\n",
    "    print('For chunk_df the dateframe rows,numbers =',chunk_df.shape)\n",
    "    print('For chunk_df the percentage of successful audio feature extraction is',round(len(chunk_df['track_name'])/len(chunk)*100,2))"
   ]
  },
  {
   "cell_type": "markdown",
   "metadata": {
    "id": "PBZtsdrfQj2D"
   },
   "source": [
    "# Chunking Instructions"
   ]
  },
  {
   "cell_type": "markdown",
   "metadata": {
    "id": "2FDR_2iqQnel"
   },
   "source": [
    "1) Grab Tracks\n",
    "\n",
    "2) Run Evaluation\n",
    "\n",
    "3) Aggregate Progress\n",
    "\n",
    "4) Write Progress to a CSV"
   ]
  },
  {
   "cell_type": "markdown",
   "metadata": {
    "id": "Y7nTQwTIS4ZX"
   },
   "source": [
    "### Add custom tracks,albums,artists,playlists here\n",
    "\n",
    "Note: Must be in track_id form."
   ]
  },
  {
   "cell_type": "code",
   "execution_count": null,
   "metadata": {
    "colab": {
     "base_uri": "https://localhost:8080/"
    },
    "id": "PT428bFyRA0k",
    "outputId": "028058b9-a598-46f9-a0bf-d86b6e0b0283"
   },
   "outputs": [
    {
     "name": "stdout",
     "output_type": "stream",
     "text": [
      "time: 1.99 ms (started: 2021-03-20 20:12:06 +00:00)\n"
     ]
    }
   ],
   "source": [
    "#Adding my own band's album to act as tracers.\n",
    "# Also, because duh, you gotta market yourself somehow.\n",
    "\n",
    "vaso_vagal=['57lYOdic1C2GVyTPZsJhlB',\n",
    "            '3Rv7s6zTx6KTYZfrpBdW4C',\n",
    "            '0Qj2eDY1Nku7OGymMs8HGz',\n",
    "            '2pgLRrQEvDwd6jTXGDswQm',\n",
    "            '5SzbfdSfxmmlyTEZcpb3EH',\n",
    "            '6wUEUO6bE1R84LAB7TIAIs',\n",
    "            '09u4feGdXwYsvH7hWObLPw',\n",
    "            '0q4ADFP0VAFpTKyAnWuU0e',\n",
    "            '7mxdqQjhmmv1iPdrE6VEmB']"
   ]
  },
  {
   "cell_type": "markdown",
   "metadata": {
    "id": "yKTcWetzTBlE"
   },
   "source": [
    "## Chunk 1/8"
   ]
  },
  {
   "cell_type": "code",
   "execution_count": null,
   "metadata": {
    "colab": {
     "base_uri": "https://localhost:8080/"
    },
    "id": "tTXqPVwSF7ap",
    "outputId": "7faf3621-6493-47a9-8593-581e06107a44"
   },
   "outputs": [
    {
     "name": "stdout",
     "output_type": "stream",
     "text": [
      "Start time: 23:13:32\n"
     ]
    },
    {
     "name": "stderr",
     "output_type": "stream",
     "text": [
      "HTTP Error for GET to https://api.spotify.com/v1/tracks/77iBDvb6t3P6o4uG2rzQ4b returned 404 due to non existing id\n"
     ]
    },
    {
     "name": "stdout",
     "output_type": "stream",
     "text": [
      "time: 34min 52s (started: 2021-03-20 23:13:32 +00:00)\n"
     ]
    }
   ],
   "source": [
    "#Chunk 1/8.  Estimated execute time: 1h on local drive. 30m on Google Colab.\n",
    "\n",
    "st_time()\n",
    "ch_1_df = af_df(ch_1)"
   ]
  },
  {
   "cell_type": "code",
   "execution_count": null,
   "metadata": {
    "colab": {
     "base_uri": "https://localhost:8080/"
    },
    "id": "tQv3ZnYCGAJu",
    "outputId": "3830d701-2dc0-41b7-8e7c-d78fd7d3be50"
   },
   "outputs": [
    {
     "name": "stdout",
     "output_type": "stream",
     "text": [
      "Start time: 23:51:54\n",
      "For chunk_df the dateframe rows,numbers = (9970, 36)\n",
      "For chunk_df the percentage of successful audio feature extraction is 99.71\n",
      "time: 2.87 ms (started: 2021-03-20 23:51:54 +00:00)\n"
     ]
    }
   ],
   "source": [
    "#Success evaluation\n",
    "\n",
    "st_time()\n",
    "chunk_df_eval(ch_1,ch_1_df)"
   ]
  },
  {
   "cell_type": "code",
   "execution_count": null,
   "metadata": {
    "id": "6qCFC6DJQ4NI"
   },
   "outputs": [],
   "source": [
    "#Write progress to a csv so you don't lose data with runtime crash.\n",
    "#'ss' = 'subsample' and corresponds to the aggregae as you go.  It will\n",
    "# change to 'tot' = \"total\" after the last chunk is added.\n",
    "\n",
    "#'af' = audio features, 'tot' = total, 'df' = dataframe\n",
    "\n",
    "#Band name is \"Vaso Vagal\"\n",
    "vaso_vagal_df = af_df(vaso_vagal)\n",
    "af_tot_df_ss = pd.concat([ch_1_df]+\n",
    "                   [vaso_vagal_df]).reset_index()\n",
    "af_tot_df_ss.drop(columns='index')\n",
    "\n",
    "#Export as a csv.\n",
    "af_tot_df_ss.to_csv('/content/drive/MyDrive/Project5/af_tot_df_ss.csv')"
   ]
  },
  {
   "cell_type": "markdown",
   "metadata": {
    "id": "qzAjGEXHTI4N"
   },
   "source": [
    "## Chunk 2/8"
   ]
  },
  {
   "cell_type": "code",
   "execution_count": null,
   "metadata": {
    "colab": {
     "base_uri": "https://localhost:8080/"
    },
    "id": "kIUmjG5AGAEj",
    "outputId": "c5aab205-6807-4f7c-fae1-062cdc30ec4d"
   },
   "outputs": [
    {
     "name": "stderr",
     "output_type": "stream",
     "text": [
      "HTTP Error for GET to https://api.spotify.com/v1/tracks/6Pf5ioiO4SALW4wNehAtW8 returned 404 due to non existing id\n"
     ]
    },
    {
     "name": "stdout",
     "output_type": "stream",
     "text": [
      "time: 35min 15s (started: 2021-03-20 23:51:57 +00:00)\n"
     ]
    }
   ],
   "source": [
    "#Chunk 2/8.  Estimated execute time: 1h on local drive. 30m on Google Colab.\n",
    "\n",
    "ch_2_df = af_df(ch_2)"
   ]
  },
  {
   "cell_type": "code",
   "execution_count": null,
   "metadata": {
    "colab": {
     "base_uri": "https://localhost:8080/"
    },
    "id": "96CWAdymF__F",
    "outputId": "8777ca4c-3b8e-4618-c9ea-0b0444199a96"
   },
   "outputs": [
    {
     "name": "stdout",
     "output_type": "stream",
     "text": [
      "Start time: 00:27:54\n",
      "For chunk_df the dateframe rows,numbers = (9970, 36)\n",
      "For chunk_df the percentage of successful audio feature extraction is 99.71\n",
      "time: 2.53 ms (started: 2021-03-21 00:27:54 +00:00)\n"
     ]
    }
   ],
   "source": [
    "#Success evaluation\n",
    "\n",
    "st_time()\n",
    "chunk_df_eval(ch_2,ch_2_df)"
   ]
  },
  {
   "cell_type": "code",
   "execution_count": null,
   "metadata": {
    "id": "Uwu6QDCxRMyU"
   },
   "outputs": [],
   "source": [
    "#Write progress to a csv so you don't lose data with runtime crash.\n",
    "#'ss' = 'subsample' and corresponds to the aggregae as you go.  It will\n",
    "# change to 'tot' = \"total\" after the last chunk is added.\n",
    "\n",
    "#'af' = audio features, 'tot' = total, 'df' = dataframe\n",
    "\n",
    "#Band name is \"Vaso Vagal\"\n",
    "vaso_vagal_df = af_df(vaso_vagal)\n",
    "af_tot_df_ss = pd.concat([ch_1_df]+[ch_2_df]+\n",
    "                   [vaso_vagal_df]).reset_index()\n",
    "af_tot_df_ss.drop(columns='index')\n",
    "\n",
    "#Export as a csv.\n",
    "af_tot_df_ss.to_csv('/content/drive/MyDrive/Project5/af_tot_df_ss.csv')"
   ]
  },
  {
   "cell_type": "markdown",
   "metadata": {
    "id": "9FvZD9iRTM0s"
   },
   "source": [
    "## Chunk 3/8"
   ]
  },
  {
   "cell_type": "code",
   "execution_count": null,
   "metadata": {
    "colab": {
     "base_uri": "https://localhost:8080/"
    },
    "id": "lKDpCK2LF_4S",
    "outputId": "2e880610-cfb4-4f3e-bc11-c10ae9dd0ad9"
   },
   "outputs": [
    {
     "name": "stderr",
     "output_type": "stream",
     "text": [
      "HTTP Error for GET to https://api.spotify.com/v1/tracks/1k2OdSPpAzf7p9ABt7UM0z returned 404 due to non existing id\n",
      "HTTP Error for GET to https://api.spotify.com/v1/tracks/7wDTsfMlz4Uh6d6xd6Gd7W returned 404 due to non existing id\n",
      "HTTP Error for GET to https://api.spotify.com/v1/tracks/2LZ515e2Oqyab3WBKr5CQk returned 404 due to non existing id\n",
      "HTTP Error for GET to https://api.spotify.com/v1/tracks/1FzdxfMvZ6a1SjmDBYFOzN returned 404 due to non existing id\n"
     ]
    },
    {
     "name": "stdout",
     "output_type": "stream",
     "text": [
      "time: 35min 6s (started: 2021-03-21 00:28:00 +00:00)\n"
     ]
    }
   ],
   "source": [
    "#Chunk 3/8.  Estimated execute time: 1h on local drive. 30m on Google Colab.\n",
    "\n",
    "ch_3_df = af_df(ch_3)"
   ]
  },
  {
   "cell_type": "code",
   "execution_count": null,
   "metadata": {
    "colab": {
     "base_uri": "https://localhost:8080/"
    },
    "id": "ycVuI_bpF_y3",
    "outputId": "1392474d-d5b6-42cd-9069-a0c5f0cdf902"
   },
   "outputs": [
    {
     "name": "stdout",
     "output_type": "stream",
     "text": [
      "Start time: 01:07:15\n",
      "For chunk_df the dateframe rows,numbers = (9962, 36)\n",
      "For chunk_df the percentage of successful audio feature extraction is 99.62\n",
      "time: 3.07 ms (started: 2021-03-21 01:07:15 +00:00)\n"
     ]
    }
   ],
   "source": [
    "#Success evaluation\n",
    "\n",
    "st_time()\n",
    "chunk_df_eval(ch_3,ch_3_df)"
   ]
  },
  {
   "cell_type": "code",
   "execution_count": null,
   "metadata": {
    "id": "k8BRCqDwRcHr"
   },
   "outputs": [],
   "source": [
    "#Write progress to a csv so you don't lose data with runtime crash.\n",
    "#'ss' = 'subsample' and corresponds to the aggregae as you go.  It will\n",
    "# change to 'tot' = \"total\" after the last chunk is added.\n",
    "\n",
    "#'af' = audio features, 'tot' = total, 'df' = dataframe\n",
    "\n",
    "#Band name is \"Vaso Vagal\"\n",
    "vaso_vagal_df = af_df(vaso_vagal)\n",
    "af_tot_df_ss = pd.concat([ch_1_df]+[ch_2_df]+[ch_3_df]+\n",
    "                   [vaso_vagal_df]).reset_index()\n",
    "af_tot_df_ss.drop(columns='index')\n",
    "\n",
    "#Export as a csv.\n",
    "af_tot_df_ss.to_csv('/content/drive/MyDrive/Project5/af_tot_df_ss.csv')"
   ]
  },
  {
   "cell_type": "markdown",
   "metadata": {
    "id": "Hy2FpXziTOrv"
   },
   "source": [
    "## Chunk 4/8"
   ]
  },
  {
   "cell_type": "code",
   "execution_count": null,
   "metadata": {
    "colab": {
     "base_uri": "https://localhost:8080/"
    },
    "id": "__CSSy21F_tZ",
    "outputId": "ab386437-cff1-4301-a7ed-612551d643d9"
   },
   "outputs": [
    {
     "name": "stdout",
     "output_type": "stream",
     "text": [
      "Start time: 01:07:18\n"
     ]
    },
    {
     "name": "stderr",
     "output_type": "stream",
     "text": [
      "HTTP Error for GET to https://api.spotify.com/v1/tracks/3GledfDACsmTu92s1Faw0B returned 404 due to non existing id\n",
      "HTTP Error for GET to https://api.spotify.com/v1/tracks/0quYwXqgKZCwFs7bJF80Xj returned 404 due to non existing id\n"
     ]
    },
    {
     "name": "stdout",
     "output_type": "stream",
     "text": [
      "time: 35min 31s (started: 2021-03-21 01:07:18 +00:00)\n"
     ]
    }
   ],
   "source": [
    "#Chunk 4/8.  Estimated execute time: 1h on local drive. 30m on Google Colab.\n",
    "\n",
    "st_time()\n",
    "ch_4_df = af_df(ch_4)"
   ]
  },
  {
   "cell_type": "code",
   "execution_count": null,
   "metadata": {
    "colab": {
     "base_uri": "https://localhost:8080/"
    },
    "id": "hU5Mm3ZFF_n-",
    "outputId": "7e162e17-4c3c-41c7-dfbf-7f87deefd8a6"
   },
   "outputs": [
    {
     "name": "stdout",
     "output_type": "stream",
     "text": [
      "Start time: 01:43:27\n",
      "For chunk_df the dateframe rows,numbers = (9966, 36)\n",
      "For chunk_df the percentage of successful audio feature extraction is 99.67\n",
      "time: 5.07 ms (started: 2021-03-21 01:43:27 +00:00)\n"
     ]
    }
   ],
   "source": [
    "#Success evaluation\n",
    "\n",
    "st_time()\n",
    "chunk_df_eval(ch_4,ch_4_df)"
   ]
  },
  {
   "cell_type": "code",
   "execution_count": null,
   "metadata": {
    "id": "faNDVdosR6DJ"
   },
   "outputs": [],
   "source": [
    "#Write progress to a csv so you don't lose data with runtime crash.\n",
    "#'ss' = 'subsample' and corresponds to the aggregae as you go.  It will\n",
    "# change to 'tot' = \"total\" after the last chunk is added.\n",
    "\n",
    "#'af' = audio features, 'tot' = total, 'df' = dataframe\n",
    "\n",
    "#Band name is \"Vaso Vagal\"\n",
    "vaso_vagal_df = af_df(vaso_vagal)\n",
    "af_tot_df_ss = pd.concat([ch_1_df]+[ch_2_df]+[ch_3_df]+[ch_4_df]+\n",
    "                   [vaso_vagal_df]).reset_index()\n",
    "af_tot_df_ss.drop(columns='index')\n",
    "\n",
    "#Export as a csv.\n",
    "af_tot_df_ss.to_csv('/content/drive/MyDrive/Project5/af_tot_df_ss.csv')"
   ]
  },
  {
   "cell_type": "markdown",
   "metadata": {
    "id": "Cjhhz9VxTQ-Q"
   },
   "source": [
    "## Chunk 5/8"
   ]
  },
  {
   "cell_type": "code",
   "execution_count": null,
   "metadata": {
    "colab": {
     "base_uri": "https://localhost:8080/"
    },
    "id": "xbCuUxO4F_jS",
    "outputId": "dbc57a2c-39af-4108-ccd0-9d254d2e899c"
   },
   "outputs": [
    {
     "name": "stdout",
     "output_type": "stream",
     "text": [
      "Start time: 20:17:40\n"
     ]
    },
    {
     "name": "stderr",
     "output_type": "stream",
     "text": [
      "HTTP Error for GET to https://api.spotify.com/v1/tracks/2PCUu5xJs8mTeMGvM532Ob returned 404 due to non existing id\n",
      "HTTP Error for GET to https://api.spotify.com/v1/tracks/01z76dsMSRSNUW90Q14L4B returned 404 due to non existing id\n"
     ]
    },
    {
     "name": "stdout",
     "output_type": "stream",
     "text": [
      "time: 35min (started: 2021-03-20 20:17:40 +00:00)\n"
     ]
    }
   ],
   "source": [
    "#Chunk 5/8.  Estimated execute time: 1h on local drive. 30m on Google Colab.\n",
    "\n",
    "st_time()\n",
    "ch_5_df = af_df(ch_5)"
   ]
  },
  {
   "cell_type": "code",
   "execution_count": null,
   "metadata": {
    "colab": {
     "base_uri": "https://localhost:8080/"
    },
    "id": "tTdCPsJlF_dA",
    "outputId": "610f76d6-96f5-4517-ca40-e7d3f89ca249"
   },
   "outputs": [
    {
     "name": "stdout",
     "output_type": "stream",
     "text": [
      "Start time: 01:43:31\n",
      "For chunk_df the dateframe rows,numbers = (9961, 36)\n",
      "For chunk_df the percentage of successful audio feature extraction is 99.62\n",
      "time: 1.94 ms (started: 2021-03-21 01:43:31 +00:00)\n"
     ]
    }
   ],
   "source": [
    "#Success evaluation\n",
    "\n",
    "st_time()\n",
    "chunk_df_eval(ch_5,ch_5_df)"
   ]
  },
  {
   "cell_type": "code",
   "execution_count": null,
   "metadata": {
    "id": "Pj2-uq0VR9gf"
   },
   "outputs": [],
   "source": [
    "#Write progress to a csv so you don't lose data with runtime crash.\n",
    "#'ss' = 'subsample' and corresponds to the aggregae as you go.  It will\n",
    "# change to 'tot' = \"total\" after the last chunk is added.\n",
    "\n",
    "#'af' = audio features, 'tot' = total, 'df' = dataframe\n",
    "\n",
    "#Band name is \"Vaso Vagal\"\n",
    "vaso_vagal_df = af_df(vaso_vagal)\n",
    "af_tot_df_ss = pd.concat([ch_1_df]+[ch_2_df]+[ch_3_df]+[ch_4_df]+[ch_5_df]+\n",
    "                   [vaso_vagal_df]).reset_index()\n",
    "af_tot_df_ss.drop(columns='index')\n",
    "\n",
    "#Export as a csv.\n",
    "af_tot_df_ss.to_csv('/content/drive/MyDrive/Project5/af_tot_df_ss.csv')"
   ]
  },
  {
   "cell_type": "markdown",
   "metadata": {
    "id": "CUILO_5CTTHS"
   },
   "source": [
    "## Chunk 6/8"
   ]
  },
  {
   "cell_type": "code",
   "execution_count": null,
   "metadata": {
    "colab": {
     "base_uri": "https://localhost:8080/"
    },
    "id": "PqMBPRTU1xbe",
    "outputId": "1de1b388-e659-4f24-e40f-667a18858021"
   },
   "outputs": [
    {
     "name": "stdout",
     "output_type": "stream",
     "text": [
      "Start time: 20:54:28\n"
     ]
    },
    {
     "name": "stderr",
     "output_type": "stream",
     "text": [
      "HTTP Error for GET to https://api.spotify.com/v1/tracks/3ORDDslop6jwYs1skgoAS5 returned 404 due to non existing id\n"
     ]
    },
    {
     "name": "stdout",
     "output_type": "stream",
     "text": [
      "time: 35min 14s (started: 2021-03-20 20:54:28 +00:00)\n"
     ]
    }
   ],
   "source": [
    "#Chunk 6/8.  Estimated execute time: 1h on local drive. 30m on Google Colab.\n",
    "\n",
    "st_time()\n",
    "ch_6_df = af_df(ch_6)"
   ]
  },
  {
   "cell_type": "code",
   "execution_count": null,
   "metadata": {
    "colab": {
     "base_uri": "https://localhost:8080/"
    },
    "id": "qP6cVZZv1xNb",
    "outputId": "4d17d2ed-6a8b-493c-a619-b943f185c32b"
   },
   "outputs": [
    {
     "name": "stdout",
     "output_type": "stream",
     "text": [
      "Start time: 21:30:01\n",
      "For chunk_df the dateframe rows,numbers = (9955, 36)\n",
      "For chunk_df the percentage of successful audio feature extraction is 99.56\n",
      "time: 2.26 ms (started: 2021-03-20 21:30:01 +00:00)\n"
     ]
    }
   ],
   "source": [
    "#Success evaluation\n",
    "\n",
    "st_time()\n",
    "chunk_df_eval(ch_6,ch_6_df)"
   ]
  },
  {
   "cell_type": "code",
   "execution_count": null,
   "metadata": {
    "id": "0y_HlhTASXly"
   },
   "outputs": [],
   "source": [
    "#Write progress to a csv so you don't lose data with runtime crash.\n",
    "#'ss' = 'subsample' and corresponds to the aggregae as you go.  It will\n",
    "# change to 'tot' = \"total\" after the last chunk is added.\n",
    "\n",
    "#'af' = audio features, 'tot' = total, 'df' = dataframe\n",
    "\n",
    "#Band name is \"Vaso Vagal\"\n",
    "vaso_vagal_df = af_df(vaso_vagal)\n",
    "af_tot_df_ss = pd.concat([ch_1_df]+[ch_2_df]+[ch_3_df]+[ch_4_df]+[ch_5_df]+\n",
    "                         [ch_6_df]+[vaso_vagal_df]).reset_index()\n",
    "af_tot_df_ss.drop(columns='index')\n",
    "\n",
    "#Export as a csv.\n",
    "af_tot_df_ss.to_csv('/content/drive/MyDrive/Project5/af_tot_df_ss.csv')"
   ]
  },
  {
   "cell_type": "markdown",
   "metadata": {
    "id": "oF0jXWY0TVWC"
   },
   "source": [
    "## Chunk 7/8"
   ]
  },
  {
   "cell_type": "code",
   "execution_count": null,
   "metadata": {
    "colab": {
     "base_uri": "https://localhost:8080/"
    },
    "id": "OM0Obef1F_Xx",
    "outputId": "22fa4ff7-889d-49f8-da3d-1a4113ceb6a9"
   },
   "outputs": [
    {
     "name": "stdout",
     "output_type": "stream",
     "text": [
      "Start time: 21:30:22\n"
     ]
    },
    {
     "name": "stderr",
     "output_type": "stream",
     "text": [
      "HTTP Error for GET to https://api.spotify.com/v1/tracks/4w3gCQjeCj0mwpIRUnL7gk returned 404 due to non existing id\n",
      "HTTP Error for GET to https://api.spotify.com/v1/tracks/0ufaVne0slHc9dE28EciFC returned 404 due to non existing id\n"
     ]
    },
    {
     "name": "stdout",
     "output_type": "stream",
     "text": [
      "time: 35min 3s (started: 2021-03-20 21:30:22 +00:00)\n"
     ]
    }
   ],
   "source": [
    "#Chunk 7/8.  Estimated execute time: 1h on local drive. 30m on Google Colab.\n",
    "\n",
    "st_time()\n",
    "ch_7_df = af_df(ch_7)"
   ]
  },
  {
   "cell_type": "code",
   "execution_count": null,
   "metadata": {
    "colab": {
     "base_uri": "https://localhost:8080/"
    },
    "id": "WNzyP3N9F_SW",
    "outputId": "20440421-1e32-4b48-a5d3-0cce776ebc5d"
   },
   "outputs": [
    {
     "name": "stdout",
     "output_type": "stream",
     "text": [
      "Start time: 22:05:33\n",
      "For chunk_df the dateframe rows,numbers = (9961, 36)\n",
      "For chunk_df the percentage of successful audio feature extraction is 99.62\n",
      "time: 3.66 ms (started: 2021-03-20 22:05:33 +00:00)\n"
     ]
    }
   ],
   "source": [
    "#Success evaluation\n",
    "\n",
    "st_time()\n",
    "chunk_df_eval(ch_7,ch_7_df)"
   ]
  },
  {
   "cell_type": "code",
   "execution_count": null,
   "metadata": {
    "id": "VG-RXrDiSgpH"
   },
   "outputs": [],
   "source": [
    "#Write progress to a csv so you don't lose data with runtime crash.\n",
    "#'ss' = 'subsample' and corresponds to the aggregae as you go.  It will\n",
    "# change to 'tot' = \"total\" after the last chunk is added.\n",
    "\n",
    "#'af' = audio features, 'tot' = total, 'df' = dataframe\n",
    "\n",
    "#Band name is \"Vaso Vagal\"\n",
    "vaso_vagal_df = af_df(vaso_vagal)\n",
    "af_tot_df_ss = pd.concat([ch_1_df]+[ch_2_df]+[ch_3_df]+[ch_4_df]+[ch_5_df]+\n",
    "                         [ch_6_df]+[ch_df_7]+[vaso_vagal_df]).reset_index()\n",
    "af_tot_df_ss.drop(columns='index')\n",
    "\n",
    "#Export as a csv.\n",
    "af_tot_df_ss.to_csv('/content/drive/MyDrive/Project5/af_tot_df_ss.csv')"
   ]
  },
  {
   "cell_type": "markdown",
   "metadata": {
    "id": "F2ZCUeDmTX_e"
   },
   "source": [
    "## Chunk 8/8"
   ]
  },
  {
   "cell_type": "code",
   "execution_count": null,
   "metadata": {
    "colab": {
     "base_uri": "https://localhost:8080/"
    },
    "id": "6Ua9LOhHF_NV",
    "outputId": "6bb4d886-e8f4-4190-a09f-5052d08a1b97"
   },
   "outputs": [
    {
     "name": "stdout",
     "output_type": "stream",
     "text": [
      "Start time: 22:05:38\n"
     ]
    },
    {
     "name": "stderr",
     "output_type": "stream",
     "text": [
      "HTTP Error for GET to https://api.spotify.com/v1/tracks/31Ve9dl2Ti17WRKgB9QfKr returned 404 due to non existing id\n",
      "HTTP Error for GET to https://api.spotify.com/v1/tracks/5szkvxcWisREix8i34QmjH returned 404 due to non existing id\n",
      "HTTP Error for GET to https://api.spotify.com/v1/tracks/7DpLJaDx6Lst2ogdqEL9Ld returned 404 due to non existing id\n"
     ]
    },
    {
     "name": "stdout",
     "output_type": "stream",
     "text": [
      "time: 44min 42s (started: 2021-03-20 22:05:38 +00:00)\n"
     ]
    }
   ],
   "source": [
    "#Chunk 8/8.  Estimated execute time: 1h on local drive. 30m on Google Colab.\n",
    "\n",
    "st_time()\n",
    "ch_8_df = af_df(ch_8)"
   ]
  },
  {
   "cell_type": "code",
   "execution_count": null,
   "metadata": {
    "colab": {
     "base_uri": "https://localhost:8080/"
    },
    "id": "YK6hl--UF_IQ",
    "outputId": "12112192-2e8c-4eef-8302-4a0c673cc166"
   },
   "outputs": [
    {
     "name": "stdout",
     "output_type": "stream",
     "text": [
      "Start time: 01:44:45\n",
      "For chunk_df the dateframe rows,numbers = (12050, 36)\n",
      "For chunk_df the percentage of successful audio feature extraction is 99.54\n",
      "time: 1.76 ms (started: 2021-03-21 01:44:45 +00:00)\n"
     ]
    }
   ],
   "source": [
    "#Success evaluation\n",
    "\n",
    "st_time()\n",
    "chunk_df_eval(ch_8,ch_8_df)"
   ]
  },
  {
   "cell_type": "code",
   "execution_count": null,
   "metadata": {
    "colab": {
     "base_uri": "https://localhost:8080/"
    },
    "id": "rmRL522ySqW7",
    "outputId": "2512ebdf-d62f-4eae-f9a6-08ced7b35f83"
   },
   "outputs": [
    {
     "name": "stdout",
     "output_type": "stream",
     "text": [
      "time: 5.61 s (started: 2021-03-21 02:22:59 +00:00)\n"
     ]
    }
   ],
   "source": [
    "#All 8 combined in this session.\n",
    "#Insert Vaso Vagal album as a tracer in a seperate file.  This is because\n",
    "# I will need to do random sampling to shrink the library size down for testing.\n",
    "# But I will want to tracer album to make sure I always know some songs in there\n",
    "# and can do function/whatever tests using them.\n",
    "\n",
    "af_tot_df = pd.concat([ch_1_df]+[ch_2_df]+[ch_3_df]+[ch_4_df]+\n",
    "                      [ch_5_df]+[ch_6_df]+[ch_7_df]+\n",
    "                      [ch_8_df]).reset_index()\n",
    "af_tot_df.drop(columns='index')\n",
    "af_tot_df.to_csv('/content/drive/MyDrive/Project5/af_tot_80_df.csv')\n",
    "\n",
    "vaso_vagal=['57lYOdic1C2GVyTPZsJhlB',\n",
    "            '3Rv7s6zTx6KTYZfrpBdW4C',\n",
    "            '0Qj2eDY1Nku7OGymMs8HGz',\n",
    "            '2pgLRrQEvDwd6jTXGDswQm',\n",
    "            '5SzbfdSfxmmlyTEZcpb3EH',\n",
    "            '6wUEUO6bE1R84LAB7TIAIs',\n",
    "            '09u4feGdXwYsvH7hWObLPw',\n",
    "            '0q4ADFP0VAFpTKyAnWuU0e',\n",
    "            '7mxdqQjhmmv1iPdrE6VEmB']\n",
    "\n",
    "vaso_vagal_df = af_df(vaso_vagal)\n",
    "vaso_vagal_df.to_csv('/content/drive/MyDrive/Project5/af_vv_df.csv')"
   ]
  },
  {
   "cell_type": "markdown",
   "metadata": {
    "id": "MaK2ycqPqlg6"
   },
   "source": [
    "# Subsample Aggregation"
   ]
  },
  {
   "cell_type": "code",
   "execution_count": null,
   "metadata": {
    "colab": {
     "base_uri": "https://localhost:8080/",
     "height": 252
    },
    "id": "R9XbkSmxoFFU",
    "outputId": "7c8342de-ef95-4742-ad7e-5c1f55e5da8f"
   },
   "outputs": [
    {
     "ename": "NameError",
     "evalue": "ignored",
     "output_type": "error",
     "traceback": [
      "\u001b[0;31m---------------------------------------------------------------------------\u001b[0m",
      "\u001b[0;31mNameError\u001b[0m                                 Traceback (most recent call last)",
      "\u001b[0;32m<ipython-input-32-7efd31ef832d>\u001b[0m in \u001b[0;36m<module>\u001b[0;34m()\u001b[0m\n\u001b[1;32m     14\u001b[0m \u001b[0mvaso_vagal_df\u001b[0m \u001b[0;34m=\u001b[0m \u001b[0maf_df\u001b[0m\u001b[0;34m(\u001b[0m\u001b[0mvaso_vagal\u001b[0m\u001b[0;34m)\u001b[0m\u001b[0;34m\u001b[0m\u001b[0;34m\u001b[0m\u001b[0m\n\u001b[1;32m     15\u001b[0m af_tot_df_ss = pd.concat([ch_1_df]+[ch_2_df]+[ch_3_df]+[ch_4_df]+\n\u001b[0;32m---> 16\u001b[0;31m                          \u001b[0;34m[\u001b[0m\u001b[0mch_5_df\u001b[0m\u001b[0;34m]\u001b[0m\u001b[0;34m+\u001b[0m\u001b[0;34m[\u001b[0m\u001b[0mch_6_df\u001b[0m\u001b[0;34m]\u001b[0m\u001b[0;34m+\u001b[0m\u001b[0;34m[\u001b[0m\u001b[0mcd_7_df\u001b[0m\u001b[0;34m]\u001b[0m\u001b[0;34m+\u001b[0m\u001b[0;34m\u001b[0m\u001b[0;34m\u001b[0m\u001b[0m\n\u001b[0m\u001b[1;32m     17\u001b[0m                    [vaso_vagal_df]).reset_index()\n\u001b[1;32m     18\u001b[0m \u001b[0maf_tot_df_ss\u001b[0m\u001b[0;34m.\u001b[0m\u001b[0mdrop\u001b[0m\u001b[0;34m(\u001b[0m\u001b[0mcolumns\u001b[0m\u001b[0;34m=\u001b[0m\u001b[0;34m'index'\u001b[0m\u001b[0;34m)\u001b[0m\u001b[0;34m\u001b[0m\u001b[0;34m\u001b[0m\u001b[0m\n",
      "\u001b[0;31mNameError\u001b[0m: name 'ch_1_df' is not defined"
     ]
    },
    {
     "name": "stdout",
     "output_type": "stream",
     "text": [
      "time: 1.35 s (started: 2021-03-20 20:08:49 +00:00)\n"
     ]
    }
   ],
   "source": [
    "#Exporting just a fraction for testing\n",
    "#Adding my own band because duh.\n",
    "\n",
    "#Band name is \"Vaso Vagal\"\n",
    "vaso_vagal=['57lYOdic1C2GVyTPZsJhlB',\n",
    "            '3Rv7s6zTx6KTYZfrpBdW4C',\n",
    "            '0Qj2eDY1Nku7OGymMs8HGz',\n",
    "            '2pgLRrQEvDwd6jTXGDswQm',\n",
    "            '5SzbfdSfxmmlyTEZcpb3EH',\n",
    "            '6wUEUO6bE1R84LAB7TIAIs',\n",
    "            '09u4feGdXwYsvH7hWObLPw',\n",
    "            '0q4ADFP0VAFpTKyAnWuU0e',\n",
    "            '7mxdqQjhmmv1iPdrE6VEmB']\n",
    "\n",
    "vaso_vagal_df = af_df(vaso_vagal)\n",
    "af_tot_df_ss = pd.concat([ch_1_df]+[ch_2_df]+[ch_3_df]+[ch_4_df]+\n",
    "                         [ch_5_df]+[ch_6_df]+[cd_7_df]+\n",
    "                   [vaso_vagal_df]).reset_index()\n",
    "af_tot_df_ss.drop(columns='index')\n",
    "\n",
    "#Export as a csv.\n",
    "af_tot_df_ss.to_csv('/content/drive/MyDrive/Project5/af_tot_df_ss.csv')"
   ]
  },
  {
   "cell_type": "code",
   "execution_count": null,
   "metadata": {
    "colab": {
     "base_uri": "https://localhost:8080/",
     "height": 721
    },
    "id": "R74fsy6-uZuq",
    "outputId": "11ac880f-4e4b-4be3-879f-6f15ea33f147"
   },
   "outputs": [
    {
     "data": {
      "text/html": [
       "<div>\n",
       "<style scoped>\n",
       "    .dataframe tbody tr th:only-of-type {\n",
       "        vertical-align: middle;\n",
       "    }\n",
       "\n",
       "    .dataframe tbody tr th {\n",
       "        vertical-align: top;\n",
       "    }\n",
       "\n",
       "    .dataframe thead th {\n",
       "        text-align: right;\n",
       "    }\n",
       "</style>\n",
       "<table border=\"1\" class=\"dataframe\">\n",
       "  <thead>\n",
       "    <tr style=\"text-align: right;\">\n",
       "      <th></th>\n",
       "      <th>index</th>\n",
       "      <th>track_id</th>\n",
       "      <th>track_name</th>\n",
       "      <th>album_id</th>\n",
       "      <th>album_name</th>\n",
       "      <th>artist_id</th>\n",
       "      <th>artist_name</th>\n",
       "      <th>track_preview_url</th>\n",
       "      <th>track_number</th>\n",
       "      <th>track_href</th>\n",
       "      <th>track_external_urls</th>\n",
       "      <th>track_external_id_isrc</th>\n",
       "      <th>album_href</th>\n",
       "      <th>album_ext_url</th>\n",
       "      <th>album_release_date</th>\n",
       "      <th>album_release_date_precision</th>\n",
       "      <th>album_total_tracks</th>\n",
       "      <th>album_type</th>\n",
       "      <th>album_image_large</th>\n",
       "      <th>album_image_medium</th>\n",
       "      <th>album_image_small</th>\n",
       "      <th>artist_href</th>\n",
       "      <th>artists_ext_url</th>\n",
       "      <th>acousticness</th>\n",
       "      <th>danceability</th>\n",
       "      <th>energy</th>\n",
       "      <th>instrumentalness</th>\n",
       "      <th>key</th>\n",
       "      <th>liveness</th>\n",
       "      <th>loudness</th>\n",
       "      <th>mode</th>\n",
       "      <th>popularity</th>\n",
       "      <th>speechiness</th>\n",
       "      <th>tempo</th>\n",
       "      <th>time_signature</th>\n",
       "      <th>track_length</th>\n",
       "      <th>valence</th>\n",
       "    </tr>\n",
       "  </thead>\n",
       "  <tbody>\n",
       "    <tr>\n",
       "      <th>0</th>\n",
       "      <td>0</td>\n",
       "      <td>6tcTKTzid5MnguRqMXfmpq</td>\n",
       "      <td>Concerto for Strings in A Minor, RV 161: I. Al...</td>\n",
       "      <td>1bKVopvjDzU8d115PMOy3X</td>\n",
       "      <td>Vivaldi: Concertos for Strings</td>\n",
       "      <td>2QOIawHpSlOwXDvSqQ9YJR</td>\n",
       "      <td>Antonio Vivaldi</td>\n",
       "      <td>https://p.scdn.co/mp3-preview/d6535826a85d5de8...</td>\n",
       "      <td>4</td>\n",
       "      <td>https://api.spotify.com/v1/tracks/6tcTKTzid5Mn...</td>\n",
       "      <td>https://open.spotify.com/track/6tcTKTzid5MnguR...</td>\n",
       "      <td>HKI199602304</td>\n",
       "      <td>https://api.spotify.com/v1/albums/1bKVopvjDzU8...</td>\n",
       "      <td>https://open.spotify.com/album/1bKVopvjDzU8d11...</td>\n",
       "      <td>1997-03-27</td>\n",
       "      <td>day</td>\n",
       "      <td>30</td>\n",
       "      <td>album</td>\n",
       "      <td>https://i.scdn.co/image/ab67616d0000b273d21509...</td>\n",
       "      <td>https://i.scdn.co/image/ab67616d00001e02d21509...</td>\n",
       "      <td>https://i.scdn.co/image/ab67616d00004851d21509...</td>\n",
       "      <td>https://api.spotify.com/v1/artists/2QOIawHpSlO...</td>\n",
       "      <td>https://open.spotify.com/artist/2QOIawHpSlOwXD...</td>\n",
       "      <td>0.807000</td>\n",
       "      <td>0.511</td>\n",
       "      <td>0.363</td>\n",
       "      <td>0.963000</td>\n",
       "      <td>9</td>\n",
       "      <td>0.1360</td>\n",
       "      <td>-15.223</td>\n",
       "      <td>0</td>\n",
       "      <td>44</td>\n",
       "      <td>0.0339</td>\n",
       "      <td>115.397</td>\n",
       "      <td>4</td>\n",
       "      <td>98600</td>\n",
       "      <td>0.674</td>\n",
       "    </tr>\n",
       "    <tr>\n",
       "      <th>1</th>\n",
       "      <td>1</td>\n",
       "      <td>3i9Tr3Vp2gjT8EsVKGt1N3</td>\n",
       "      <td>California - Chris Lake &amp; Matroda Remix</td>\n",
       "      <td>1HFGTeIMHbKiEx1zZiDKWt</td>\n",
       "      <td>California</td>\n",
       "      <td>2zJ8chFLjiBHRNchfevMRI</td>\n",
       "      <td>SNBRN</td>\n",
       "      <td>https://p.scdn.co/mp3-preview/37ec14d1b31cf6fd...</td>\n",
       "      <td>2</td>\n",
       "      <td>https://api.spotify.com/v1/tracks/3i9Tr3Vp2gjT...</td>\n",
       "      <td>https://open.spotify.com/track/3i9Tr3Vp2gjT8Es...</td>\n",
       "      <td>QMLA71500357</td>\n",
       "      <td>https://api.spotify.com/v1/albums/1HFGTeIMHbKi...</td>\n",
       "      <td>https://open.spotify.com/album/1HFGTeIMHbKiEx1...</td>\n",
       "      <td>2015-05-11</td>\n",
       "      <td>day</td>\n",
       "      <td>2</td>\n",
       "      <td>album</td>\n",
       "      <td>https://i.scdn.co/image/ab67616d0000b2730e7de5...</td>\n",
       "      <td>https://i.scdn.co/image/ab67616d00001e020e7de5...</td>\n",
       "      <td>https://i.scdn.co/image/ab67616d000048510e7de5...</td>\n",
       "      <td>https://api.spotify.com/v1/artists/2zJ8chFLjiB...</td>\n",
       "      <td>https://open.spotify.com/artist/2zJ8chFLjiBHRN...</td>\n",
       "      <td>0.022600</td>\n",
       "      <td>0.783</td>\n",
       "      <td>0.810</td>\n",
       "      <td>0.257000</td>\n",
       "      <td>10</td>\n",
       "      <td>0.1190</td>\n",
       "      <td>-4.041</td>\n",
       "      <td>0</td>\n",
       "      <td>38</td>\n",
       "      <td>0.0794</td>\n",
       "      <td>124.028</td>\n",
       "      <td>4</td>\n",
       "      <td>305816</td>\n",
       "      <td>0.380</td>\n",
       "    </tr>\n",
       "    <tr>\n",
       "      <th>2</th>\n",
       "      <td>2</td>\n",
       "      <td>4Qievb8Mqy0qxdLNVl02zt</td>\n",
       "      <td>Been Caught Stealing</td>\n",
       "      <td>2Jkbi83HTSfqEd0CBdYwpU</td>\n",
       "      <td>Ritual De Lo Habitual</td>\n",
       "      <td>02NfyD6AlLA12crYzw5YcR</td>\n",
       "      <td>Jane's Addiction</td>\n",
       "      <td>https://p.scdn.co/mp3-preview/74af516b30ad8dd3...</td>\n",
       "      <td>5</td>\n",
       "      <td>https://api.spotify.com/v1/tracks/4Qievb8Mqy0q...</td>\n",
       "      <td>https://open.spotify.com/track/4Qievb8Mqy0qxdL...</td>\n",
       "      <td>USWB19000038</td>\n",
       "      <td>https://api.spotify.com/v1/albums/2Jkbi83HTSfq...</td>\n",
       "      <td>https://open.spotify.com/album/2Jkbi83HTSfqEd0...</td>\n",
       "      <td>1990-08-21</td>\n",
       "      <td>day</td>\n",
       "      <td>9</td>\n",
       "      <td>album</td>\n",
       "      <td>https://i.scdn.co/image/ab67616d0000b27380c825...</td>\n",
       "      <td>https://i.scdn.co/image/ab67616d00001e0280c825...</td>\n",
       "      <td>https://i.scdn.co/image/ab67616d0000485180c825...</td>\n",
       "      <td>https://api.spotify.com/v1/artists/02NfyD6AlLA...</td>\n",
       "      <td>https://open.spotify.com/artist/02NfyD6AlLA12c...</td>\n",
       "      <td>0.003260</td>\n",
       "      <td>0.639</td>\n",
       "      <td>0.929</td>\n",
       "      <td>0.050100</td>\n",
       "      <td>0</td>\n",
       "      <td>0.2420</td>\n",
       "      <td>-4.762</td>\n",
       "      <td>1</td>\n",
       "      <td>57</td>\n",
       "      <td>0.2120</td>\n",
       "      <td>103.758</td>\n",
       "      <td>4</td>\n",
       "      <td>214706</td>\n",
       "      <td>0.688</td>\n",
       "    </tr>\n",
       "    <tr>\n",
       "      <th>3</th>\n",
       "      <td>3</td>\n",
       "      <td>3dcMbvaYRwHFXnDF9CozIs</td>\n",
       "      <td>Sway (Quien Sera) - 1997 - Remastered</td>\n",
       "      <td>3M4x71xrlgVrZ2SS0Jjebq</td>\n",
       "      <td>Dino: The Essential Dean Martin</td>\n",
       "      <td>49e4v89VmlDcFCMyDv9wQ9</td>\n",
       "      <td>Dean Martin</td>\n",
       "      <td>None</td>\n",
       "      <td>5</td>\n",
       "      <td>https://api.spotify.com/v1/tracks/3dcMbvaYRwHF...</td>\n",
       "      <td>https://open.spotify.com/track/3dcMbvaYRwHFXnD...</td>\n",
       "      <td>USCA29701333</td>\n",
       "      <td>https://api.spotify.com/v1/albums/3M4x71xrlgVr...</td>\n",
       "      <td>https://open.spotify.com/album/3M4x71xrlgVrZ2S...</td>\n",
       "      <td>2004</td>\n",
       "      <td>year</td>\n",
       "      <td>30</td>\n",
       "      <td>album</td>\n",
       "      <td>https://i.scdn.co/image/ab67616d0000b2733b126b...</td>\n",
       "      <td>https://i.scdn.co/image/ab67616d00001e023b126b...</td>\n",
       "      <td>https://i.scdn.co/image/ab67616d000048513b126b...</td>\n",
       "      <td>https://api.spotify.com/v1/artists/49e4v89VmlD...</td>\n",
       "      <td>https://open.spotify.com/artist/49e4v89VmlDcFC...</td>\n",
       "      <td>0.727000</td>\n",
       "      <td>0.611</td>\n",
       "      <td>0.288</td>\n",
       "      <td>0.000002</td>\n",
       "      <td>7</td>\n",
       "      <td>0.0792</td>\n",
       "      <td>-9.988</td>\n",
       "      <td>0</td>\n",
       "      <td>0</td>\n",
       "      <td>0.0361</td>\n",
       "      <td>120.066</td>\n",
       "      <td>4</td>\n",
       "      <td>162066</td>\n",
       "      <td>0.583</td>\n",
       "    </tr>\n",
       "    <tr>\n",
       "      <th>4</th>\n",
       "      <td>4</td>\n",
       "      <td>4vO9dmzNRqDhFY3jD1a3P7</td>\n",
       "      <td>Mississippi Queen</td>\n",
       "      <td>2tWvZmP9EVRYqmWyJPLzjP</td>\n",
       "      <td>Climbing!</td>\n",
       "      <td>7LCp4MN0SOIVWlssid9KyE</td>\n",
       "      <td>Mountain</td>\n",
       "      <td>https://p.scdn.co/mp3-preview/a94af259aa67f896...</td>\n",
       "      <td>1</td>\n",
       "      <td>https://api.spotify.com/v1/tracks/4vO9dmzNRqDh...</td>\n",
       "      <td>https://open.spotify.com/track/4vO9dmzNRqDhFY3...</td>\n",
       "      <td>USSM10017943</td>\n",
       "      <td>https://api.spotify.com/v1/albums/2tWvZmP9EVRY...</td>\n",
       "      <td>https://open.spotify.com/album/2tWvZmP9EVRYqmW...</td>\n",
       "      <td>1970</td>\n",
       "      <td>year</td>\n",
       "      <td>10</td>\n",
       "      <td>album</td>\n",
       "      <td>https://i.scdn.co/image/ab67616d0000b273411cac...</td>\n",
       "      <td>https://i.scdn.co/image/ab67616d00001e02411cac...</td>\n",
       "      <td>https://i.scdn.co/image/ab67616d00004851411cac...</td>\n",
       "      <td>https://api.spotify.com/v1/artists/7LCp4MN0SOI...</td>\n",
       "      <td>https://open.spotify.com/artist/7LCp4MN0SOIVWl...</td>\n",
       "      <td>0.098700</td>\n",
       "      <td>0.581</td>\n",
       "      <td>0.624</td>\n",
       "      <td>0.000000</td>\n",
       "      <td>9</td>\n",
       "      <td>0.0411</td>\n",
       "      <td>-8.346</td>\n",
       "      <td>1</td>\n",
       "      <td>69</td>\n",
       "      <td>0.0777</td>\n",
       "      <td>139.714</td>\n",
       "      <td>4</td>\n",
       "      <td>151293</td>\n",
       "      <td>0.637</td>\n",
       "    </tr>\n",
       "    <tr>\n",
       "      <th>...</th>\n",
       "      <td>...</td>\n",
       "      <td>...</td>\n",
       "      <td>...</td>\n",
       "      <td>...</td>\n",
       "      <td>...</td>\n",
       "      <td>...</td>\n",
       "      <td>...</td>\n",
       "      <td>...</td>\n",
       "      <td>...</td>\n",
       "      <td>...</td>\n",
       "      <td>...</td>\n",
       "      <td>...</td>\n",
       "      <td>...</td>\n",
       "      <td>...</td>\n",
       "      <td>...</td>\n",
       "      <td>...</td>\n",
       "      <td>...</td>\n",
       "      <td>...</td>\n",
       "      <td>...</td>\n",
       "      <td>...</td>\n",
       "      <td>...</td>\n",
       "      <td>...</td>\n",
       "      <td>...</td>\n",
       "      <td>...</td>\n",
       "      <td>...</td>\n",
       "      <td>...</td>\n",
       "      <td>...</td>\n",
       "      <td>...</td>\n",
       "      <td>...</td>\n",
       "      <td>...</td>\n",
       "      <td>...</td>\n",
       "      <td>...</td>\n",
       "      <td>...</td>\n",
       "      <td>...</td>\n",
       "      <td>...</td>\n",
       "      <td>...</td>\n",
       "      <td>...</td>\n",
       "    </tr>\n",
       "    <tr>\n",
       "      <th>39850</th>\n",
       "      <td>4</td>\n",
       "      <td>5SzbfdSfxmmlyTEZcpb3EH</td>\n",
       "      <td>County Fair</td>\n",
       "      <td>72yXt1N6iw8TnCG4KeX5pr</td>\n",
       "      <td>Immolate</td>\n",
       "      <td>3hFXoighTNpdkuXcwFu09n</td>\n",
       "      <td>Vaso Vagal</td>\n",
       "      <td>https://p.scdn.co/mp3-preview/f148a09e067891d4...</td>\n",
       "      <td>5</td>\n",
       "      <td>https://api.spotify.com/v1/tracks/5SzbfdSfxmml...</td>\n",
       "      <td>https://open.spotify.com/track/5SzbfdSfxmmlyTE...</td>\n",
       "      <td>TCADA1792179</td>\n",
       "      <td>https://api.spotify.com/v1/albums/72yXt1N6iw8T...</td>\n",
       "      <td>https://open.spotify.com/album/72yXt1N6iw8TnCG...</td>\n",
       "      <td>2017-05-12</td>\n",
       "      <td>day</td>\n",
       "      <td>9</td>\n",
       "      <td>album</td>\n",
       "      <td>https://i.scdn.co/image/ab67616d0000b273368290...</td>\n",
       "      <td>https://i.scdn.co/image/ab67616d00001e02368290...</td>\n",
       "      <td>https://i.scdn.co/image/ab67616d00004851368290...</td>\n",
       "      <td>https://api.spotify.com/v1/artists/3hFXoighTNp...</td>\n",
       "      <td>https://open.spotify.com/artist/3hFXoighTNpdku...</td>\n",
       "      <td>0.867000</td>\n",
       "      <td>0.227</td>\n",
       "      <td>0.614</td>\n",
       "      <td>0.967000</td>\n",
       "      <td>7</td>\n",
       "      <td>0.1830</td>\n",
       "      <td>-13.837</td>\n",
       "      <td>1</td>\n",
       "      <td>0</td>\n",
       "      <td>0.0361</td>\n",
       "      <td>206.966</td>\n",
       "      <td>4</td>\n",
       "      <td>59789</td>\n",
       "      <td>0.640</td>\n",
       "    </tr>\n",
       "    <tr>\n",
       "      <th>39851</th>\n",
       "      <td>5</td>\n",
       "      <td>6wUEUO6bE1R84LAB7TIAIs</td>\n",
       "      <td>Throb</td>\n",
       "      <td>72yXt1N6iw8TnCG4KeX5pr</td>\n",
       "      <td>Immolate</td>\n",
       "      <td>3hFXoighTNpdkuXcwFu09n</td>\n",
       "      <td>Vaso Vagal</td>\n",
       "      <td>https://p.scdn.co/mp3-preview/25a3ecd935677d0a...</td>\n",
       "      <td>6</td>\n",
       "      <td>https://api.spotify.com/v1/tracks/6wUEUO6bE1R8...</td>\n",
       "      <td>https://open.spotify.com/track/6wUEUO6bE1R84LA...</td>\n",
       "      <td>TCADA1792180</td>\n",
       "      <td>https://api.spotify.com/v1/albums/72yXt1N6iw8T...</td>\n",
       "      <td>https://open.spotify.com/album/72yXt1N6iw8TnCG...</td>\n",
       "      <td>2017-05-12</td>\n",
       "      <td>day</td>\n",
       "      <td>9</td>\n",
       "      <td>album</td>\n",
       "      <td>https://i.scdn.co/image/ab67616d0000b273368290...</td>\n",
       "      <td>https://i.scdn.co/image/ab67616d00001e02368290...</td>\n",
       "      <td>https://i.scdn.co/image/ab67616d00004851368290...</td>\n",
       "      <td>https://api.spotify.com/v1/artists/3hFXoighTNp...</td>\n",
       "      <td>https://open.spotify.com/artist/3hFXoighTNpdku...</td>\n",
       "      <td>0.000508</td>\n",
       "      <td>0.453</td>\n",
       "      <td>0.645</td>\n",
       "      <td>0.878000</td>\n",
       "      <td>0</td>\n",
       "      <td>0.2520</td>\n",
       "      <td>-5.622</td>\n",
       "      <td>1</td>\n",
       "      <td>0</td>\n",
       "      <td>0.0328</td>\n",
       "      <td>73.853</td>\n",
       "      <td>4</td>\n",
       "      <td>261492</td>\n",
       "      <td>0.408</td>\n",
       "    </tr>\n",
       "    <tr>\n",
       "      <th>39852</th>\n",
       "      <td>6</td>\n",
       "      <td>09u4feGdXwYsvH7hWObLPw</td>\n",
       "      <td>Rudderless</td>\n",
       "      <td>72yXt1N6iw8TnCG4KeX5pr</td>\n",
       "      <td>Immolate</td>\n",
       "      <td>3hFXoighTNpdkuXcwFu09n</td>\n",
       "      <td>Vaso Vagal</td>\n",
       "      <td>https://p.scdn.co/mp3-preview/73ab99385a13f17b...</td>\n",
       "      <td>7</td>\n",
       "      <td>https://api.spotify.com/v1/tracks/09u4feGdXwYs...</td>\n",
       "      <td>https://open.spotify.com/track/09u4feGdXwYsvH7...</td>\n",
       "      <td>TCADA1792181</td>\n",
       "      <td>https://api.spotify.com/v1/albums/72yXt1N6iw8T...</td>\n",
       "      <td>https://open.spotify.com/album/72yXt1N6iw8TnCG...</td>\n",
       "      <td>2017-05-12</td>\n",
       "      <td>day</td>\n",
       "      <td>9</td>\n",
       "      <td>album</td>\n",
       "      <td>https://i.scdn.co/image/ab67616d0000b273368290...</td>\n",
       "      <td>https://i.scdn.co/image/ab67616d00001e02368290...</td>\n",
       "      <td>https://i.scdn.co/image/ab67616d00004851368290...</td>\n",
       "      <td>https://api.spotify.com/v1/artists/3hFXoighTNp...</td>\n",
       "      <td>https://open.spotify.com/artist/3hFXoighTNpdku...</td>\n",
       "      <td>0.758000</td>\n",
       "      <td>0.330</td>\n",
       "      <td>0.361</td>\n",
       "      <td>0.900000</td>\n",
       "      <td>9</td>\n",
       "      <td>0.1070</td>\n",
       "      <td>-8.361</td>\n",
       "      <td>1</td>\n",
       "      <td>0</td>\n",
       "      <td>0.0353</td>\n",
       "      <td>99.043</td>\n",
       "      <td>4</td>\n",
       "      <td>393685</td>\n",
       "      <td>0.118</td>\n",
       "    </tr>\n",
       "    <tr>\n",
       "      <th>39853</th>\n",
       "      <td>7</td>\n",
       "      <td>0q4ADFP0VAFpTKyAnWuU0e</td>\n",
       "      <td>Immolate</td>\n",
       "      <td>72yXt1N6iw8TnCG4KeX5pr</td>\n",
       "      <td>Immolate</td>\n",
       "      <td>3hFXoighTNpdkuXcwFu09n</td>\n",
       "      <td>Vaso Vagal</td>\n",
       "      <td>https://p.scdn.co/mp3-preview/852da18ffb25ac36...</td>\n",
       "      <td>8</td>\n",
       "      <td>https://api.spotify.com/v1/tracks/0q4ADFP0VAFp...</td>\n",
       "      <td>https://open.spotify.com/track/0q4ADFP0VAFpTKy...</td>\n",
       "      <td>TCADA1792183</td>\n",
       "      <td>https://api.spotify.com/v1/albums/72yXt1N6iw8T...</td>\n",
       "      <td>https://open.spotify.com/album/72yXt1N6iw8TnCG...</td>\n",
       "      <td>2017-05-12</td>\n",
       "      <td>day</td>\n",
       "      <td>9</td>\n",
       "      <td>album</td>\n",
       "      <td>https://i.scdn.co/image/ab67616d0000b273368290...</td>\n",
       "      <td>https://i.scdn.co/image/ab67616d00001e02368290...</td>\n",
       "      <td>https://i.scdn.co/image/ab67616d00004851368290...</td>\n",
       "      <td>https://api.spotify.com/v1/artists/3hFXoighTNp...</td>\n",
       "      <td>https://open.spotify.com/artist/3hFXoighTNpdku...</td>\n",
       "      <td>0.418000</td>\n",
       "      <td>0.283</td>\n",
       "      <td>0.468</td>\n",
       "      <td>0.969000</td>\n",
       "      <td>7</td>\n",
       "      <td>0.1150</td>\n",
       "      <td>-7.700</td>\n",
       "      <td>1</td>\n",
       "      <td>0</td>\n",
       "      <td>0.0391</td>\n",
       "      <td>112.867</td>\n",
       "      <td>4</td>\n",
       "      <td>480000</td>\n",
       "      <td>0.281</td>\n",
       "    </tr>\n",
       "    <tr>\n",
       "      <th>39854</th>\n",
       "      <td>8</td>\n",
       "      <td>7mxdqQjhmmv1iPdrE6VEmB</td>\n",
       "      <td>Anomia</td>\n",
       "      <td>72yXt1N6iw8TnCG4KeX5pr</td>\n",
       "      <td>Immolate</td>\n",
       "      <td>3hFXoighTNpdkuXcwFu09n</td>\n",
       "      <td>Vaso Vagal</td>\n",
       "      <td>https://p.scdn.co/mp3-preview/f9d26dd324467589...</td>\n",
       "      <td>9</td>\n",
       "      <td>https://api.spotify.com/v1/tracks/7mxdqQjhmmv1...</td>\n",
       "      <td>https://open.spotify.com/track/7mxdqQjhmmv1iPd...</td>\n",
       "      <td>TCADA1792189</td>\n",
       "      <td>https://api.spotify.com/v1/albums/72yXt1N6iw8T...</td>\n",
       "      <td>https://open.spotify.com/album/72yXt1N6iw8TnCG...</td>\n",
       "      <td>2017-05-12</td>\n",
       "      <td>day</td>\n",
       "      <td>9</td>\n",
       "      <td>album</td>\n",
       "      <td>https://i.scdn.co/image/ab67616d0000b273368290...</td>\n",
       "      <td>https://i.scdn.co/image/ab67616d00001e02368290...</td>\n",
       "      <td>https://i.scdn.co/image/ab67616d00004851368290...</td>\n",
       "      <td>https://api.spotify.com/v1/artists/3hFXoighTNp...</td>\n",
       "      <td>https://open.spotify.com/artist/3hFXoighTNpdku...</td>\n",
       "      <td>0.859000</td>\n",
       "      <td>0.735</td>\n",
       "      <td>0.164</td>\n",
       "      <td>0.905000</td>\n",
       "      <td>0</td>\n",
       "      <td>0.1220</td>\n",
       "      <td>-13.939</td>\n",
       "      <td>1</td>\n",
       "      <td>0</td>\n",
       "      <td>0.0584</td>\n",
       "      <td>66.188</td>\n",
       "      <td>4</td>\n",
       "      <td>84608</td>\n",
       "      <td>0.357</td>\n",
       "    </tr>\n",
       "  </tbody>\n",
       "</table>\n",
       "<p>39855 rows × 37 columns</p>\n",
       "</div>"
      ],
      "text/plain": [
       "       index                track_id  ... track_length valence\n",
       "0          0  6tcTKTzid5MnguRqMXfmpq  ...        98600   0.674\n",
       "1          1  3i9Tr3Vp2gjT8EsVKGt1N3  ...       305816   0.380\n",
       "2          2  4Qievb8Mqy0qxdLNVl02zt  ...       214706   0.688\n",
       "3          3  3dcMbvaYRwHFXnDF9CozIs  ...       162066   0.583\n",
       "4          4  4vO9dmzNRqDhFY3jD1a3P7  ...       151293   0.637\n",
       "...      ...                     ...  ...          ...     ...\n",
       "39850      4  5SzbfdSfxmmlyTEZcpb3EH  ...        59789   0.640\n",
       "39851      5  6wUEUO6bE1R84LAB7TIAIs  ...       261492   0.408\n",
       "39852      6  09u4feGdXwYsvH7hWObLPw  ...       393685   0.118\n",
       "39853      7  0q4ADFP0VAFpTKyAnWuU0e  ...       480000   0.281\n",
       "39854      8  7mxdqQjhmmv1iPdrE6VEmB  ...        84608   0.357\n",
       "\n",
       "[39855 rows x 37 columns]"
      ]
     },
     "execution_count": 43,
     "metadata": {
      "tags": []
     },
     "output_type": "execute_result"
    },
    {
     "name": "stdout",
     "output_type": "stream",
     "text": [
      "time: 92.2 ms (started: 2021-03-20 18:06:54 +00:00)\n"
     ]
    }
   ],
   "source": [
    "af_tot_df_ss\n"
   ]
  },
  {
   "cell_type": "markdown",
   "metadata": {
    "id": "kFD4xOEZqtI7"
   },
   "source": [
    "# Total Sample Aggregation"
   ]
  },
  {
   "cell_type": "markdown",
   "metadata": {
    "id": "9Yjk51VuGac8"
   },
   "source": [
    "#### Export as csv\n",
    "\n",
    "Note: This will go to the current directory (the one you've been working in).  The estimated size is ~1.5MB/10,000 tracks."
   ]
  },
  {
   "cell_type": "code",
   "execution_count": null,
   "metadata": {
    "id": "qw36KUNirQHb"
   },
   "outputs": [],
   "source": [
    "#'af' = audio features, 'tot' = total, 'df' = dataframe\n",
    "\n",
    "af_tot_df = pd.concat([ch_1_df]+[ch_2_df]+[ch_3_df]+\n",
    "                     [ch_4_df]+[ch_5_df]+[ch_6_df]+\n",
    "                     [ch_7_df]+[ch_8_df]+[vaso_vagal_df]).reset_index()\n",
    "af_tot_df.drop(columns='index')"
   ]
  },
  {
   "cell_type": "code",
   "execution_count": null,
   "metadata": {
    "id": "ll0xhoLYGaNc"
   },
   "outputs": [],
   "source": [
    "af_tot_df.to_csv('af_tot_df.csv')"
   ]
  },
  {
   "cell_type": "markdown",
   "metadata": {
    "id": "g_eQyV0FGf8c"
   },
   "source": [
    "# Reference: Column and Audio Feature Explanation"
   ]
  },
  {
   "cell_type": "markdown",
   "metadata": {
    "id": "4uONNiuCGjk6"
   },
   "source": [
    "Here is a reference for all 18 columns of the main audio feature dataframe."
   ]
  },
  {
   "cell_type": "code",
   "execution_count": null,
   "metadata": {
    "id": "RtTiR1uVF-rm"
   },
   "outputs": [],
   "source": [
    "af_ref_df = pd.read_csv('column_af_explanation.csv')\n",
    "af_tot_df"
   ]
  },
  {
   "cell_type": "code",
   "execution_count": null,
   "metadata": {
    "id": "gLS52KIMF-mM"
   },
   "outputs": [],
   "source": [
    "#Look at a single explanation.  \n",
    "\n",
    "#To see the audio feature type use index [0].\n",
    "#To see the audio feature description use index [1]\n",
    "\n",
    "af_ref_df['danceability'][1]"
   ]
  },
  {
   "cell_type": "code",
   "execution_count": null,
   "metadata": {
    "id": "WSoUivPIF-gY"
   },
   "outputs": [],
   "source": [
    "plot(af_tot_df)"
   ]
  }
 ],
 "metadata": {
  "colab": {
   "collapsed_sections": [],
   "machine_shape": "hm",
   "name": "sr2_data_comp_gc_sr2.ipynb",
   "provenance": []
  },
  "kernelspec": {
   "display_name": "Python 3",
   "language": "python",
   "name": "python3"
  },
  "language_info": {
   "codemirror_mode": {
    "name": "ipython",
    "version": 3
   },
   "file_extension": ".py",
   "mimetype": "text/x-python",
   "name": "python",
   "nbconvert_exporter": "python",
   "pygments_lexer": "ipython3",
   "version": "3.8.5"
  }
 },
 "nbformat": 4,
 "nbformat_minor": 4
}
